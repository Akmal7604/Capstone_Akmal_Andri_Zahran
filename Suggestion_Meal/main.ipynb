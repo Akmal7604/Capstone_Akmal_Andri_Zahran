{
 "cells": [
  {
   "cell_type": "code",
   "execution_count": 30,
   "metadata": {},
   "outputs": [],
   "source": [
    "import numpy as np\n",
    "import pandas as pd\n",
    "import seaborn as sns\n",
    "import matplotlib.pyplot as plt\n",
    "import re\n",
    "import pickle # Tetap digunakan untuk MLB, LE, bins_labels, dan feature_columns\n",
    "from sklearn.preprocessing import MinMaxScaler\n",
    "from sklearn.model_selection import train_test_split\n",
    "from sklearn.preprocessing import MultiLabelBinarizer, LabelEncoder\n",
    "from sklearn.utils import class_weight\n",
    "from sklearn.metrics import precision_score, recall_score, confusion_matrix, roc_curve, auc, ConfusionMatrixDisplay, classification_report, roc_auc_score\n",
    "from IPython.display import display, HTML\n",
    "import os\n",
    "\n",
    "# --- LIBRARY TENSORFLOW ---\n",
    "import tensorflow as tf\n",
    "from tensorflow.keras.models import Sequential, load_model\n",
    "from tensorflow.keras.layers import Dense, Input # Menambahkan Input layer\n",
    "from tensorflow.keras.optimizers import Adam\n",
    "from tensorflow.keras.losses import SparseCategoricalCrossentropy # Untuk loss"
   ]
  },
  {
   "cell_type": "code",
   "execution_count": 31,
   "metadata": {},
   "outputs": [],
   "source": [
    "# --- 1. Define Keywords ---\n",
    "GENERAL_DIET_AND_HEALTH_KEYWORDS = {\n",
    "    'Dietary Restrictions': [\n",
    "        'vegetarian', 'vegan', 'dairy free foods', 'egg free', 'lactose free',\n",
    "        'no shell fish', 'free of...'\n",
    "    ],\n",
    "    'Health Focus': [\n",
    "        'low calorie', 'healthy', 'light', 'low cholesterol', 'low protein',\n",
    "        'very low carbs', 'high fiber', 'high protein', 'protein'\n",
    "    ]\n",
    "}\n",
    "\n",
    "GENERAL_COOKING_AND_EQUIPMENT_KEYWORDS = {\n",
    "    'Cooking Methods': [\n",
    "        'no cook', 'stove top', 'oven', 'baking', 'broil/grill', 'microwave',\n",
    "        'pressure cooker', 'deep fried', 'steam', 'stir fry', 'wok'\n",
    "    ],\n",
    "    'Equipment': [\n",
    "        'small appliance', 'mixer', 'dehydrator', 'refrigerator', 'freezer',\n",
    "        'bread machine'\n",
    "    ]\n",
    "}\n",
    "\n",
    "GENERAL_MEAL_AND_TIME_KEYWORDS = {\n",
    "    'Meal Type': [\n",
    "        'breakfast', 'brunch', 'lunchsnacks', 'one dish meal', 'stew',\n",
    "        'pot roast', 'meatloaf', 'dessert', 'frozen desserts', 'ice cream',\n",
    "        'cheesecake', 'bar cookie', 'drop cookies', 'chocolate chip cookies',\n",
    "        'cake', 'chowders', 'clear soup', 'beef barley soup', 'mushroom soup',\n",
    "        'pasta shells', 'penne', 'spaghetti', 'macaroni and cheese', 'manicotti',\n",
    "        'pasta elbow', 'breads', 'quick breads', 'yeast breads',\n",
    "        'sourdough breads', 'savory pies', 'pie', 'cookie & brownie',\n",
    "        'beverages', 'punch beverage', 'smoothies', 'shakes', 'sauces',\n",
    "        'chutneys', 'spreads', 'side dish', 'accompaniment', 'garnish',\n",
    "        'coleslaw', 'potato salad'\n",
    "    ],\n",
    "    'Time & Budget': [\n",
    "        '< 15 mins', '< 30 mins', '< 60 mins', '< 4 hours', 'weeknight',\n",
    "        'inexpensive'\n",
    "    ]\n",
    "}\n",
    "\n",
    "GENERAL_INGREDIENT_KEYWORDS = {\n",
    "    'Proteins & Produce': [\n",
    "        'chicken', 'beef', 'pork', 'duck', 'goose', 'turkey', 'veal', 'rabbit',\n",
    "        'lamb/sheep', 'quail', 'deer', 'moose', 'elk', 'pheasant', 'wild game',\n",
    "        'fish', 'seafood', 'salmon', 'tuna', 'halibut', 'bass', 'catfish',\n",
    "        'tilapia', 'trout', 'whitefish', 'mahi mahi', 'orange roughy', 'crab',\n",
    "        'lobster', 'mussels', 'oysters', 'squid', 'octopus', 'crawfish',\n",
    "        'vegetable', 'soy/tofu', 'tempeh', 'cauliflower', 'artichoke',\n",
    "        'onions', 'collard greens', 'spinach', 'chard', 'peppers', 'pumpkin',\n",
    "        'apple', 'strawberry', 'plums', 'pineapple', 'cherries', 'berries',\n",
    "        'raspberries', 'kiwifruit', 'melons', 'oranges', 'papaya', 'mango',\n",
    "        'coconut', 'pear', 'lime', 'grapes', 'citrus', 'avocado', 'tropical fruits'\n",
    "    ],\n",
    "    'Pantry Staples': [\n",
    "        'rice', 'brown rice', 'white rice', 'short grain rice',\n",
    "        'medium grain rice', 'long grain rice', 'oatmeal', 'corn', 'beans',\n",
    "        'black beans', 'lentil', 'peanut butter', 'cheese', 'yogurt',\n",
    "        'nuts'\n",
    "    ]\n",
    "}\n",
    "\n",
    "GENERAL_CULTURE_AND_FLAVOR_KEYWORDS = {\n",
    "    'Regional Cuisine': [\n",
    "        'chinese', 'japanese', 'thai', 'vietnamese', 'indonesian', 'korean',\n",
    "        'filipino', 'cambodian', 'malaysian', 'burmese', 'singaporean',\n",
    "        'laotian', 'pakistani', 'indian', 'bangladeshi', 'nepali', 'sri lankan',\n",
    "        'southwest asia (middle east)', 'lebanese', 'turkish', 'iraqi',\n",
    "        'iranian', 'italian', 'greek', 'french', 'german', 'scandinavian',\n",
    "        'norwegian', 'swedish', 'dutch', 'austrian', 'swiss', 'welsh',\n",
    "        'finnish', 'polish', 'portuguese', 'russian', 'hungarian', 'czech',\n",
    "        'georgian', 'spanish', 'moroccan', 'nigerian', 'egyptian',\n",
    "        'ethiopian', 'south african', 'sudanese', 'somalian', 'ghanaian',\n",
    "        'kenyan', 'tanzanian', 'southern u.s.', 'southwestern u.s.',\n",
    "        'native american', 'puerto rican', 'cuban', 'caribbean', 'creole',\n",
    "        'cajun', 'tex mex', 'brazilian', 'argentinian', 'chilean', 'peruvian',\n",
    "        'colombian', 'ecuadorean', 'venezuelan', 'guatemalan', 'costarican',\n",
    "        'mexican', 'honduran', 'nicaraguan', 'salvadoran', 'panamanian',\n",
    "        'bolivian', 'paraguayan', 'uruguayan', 'australian', 'new zealand',\n",
    "        'polynesian', 'fijian', 'samoan', 'canadian', 'icelandic'\n",
    "    ],\n",
    "    'Flavor & Occasion': [\n",
    "        'spicy', 'hot chili', 'cayenne', 'peppery', 'fiery', 'umami', 'savory',\n",
    "        'rich', 'meaty', 'miso', 'sweet', 'sugary', 'honeyed', 'sour', 'tangy',\n",
    "        'citrusy', 'vinegary', 'bitter', 'salty', 'briny', 'soy sauce',\n",
    "        'christmas', 'thanksgiving', 'halloween', \"st. patrick's day\",\n",
    "        'ramadan', 'hanukkah', 'labor day', 'memorial day', 'birthday', 'easter',\n",
    "        'new year', 'spring', 'summer', 'winter', 'fall', 'potluck',\n",
    "        'for large groups', 'camping', 'college food', 'beginner cook'\n",
    "    ]\n",
    "}"
   ]
  },
  {
   "cell_type": "code",
   "execution_count": 32,
   "metadata": {},
   "outputs": [
    {
     "name": "stdout",
     "output_type": "stream",
     "text": [
      "<class 'pandas.core.frame.DataFrame'>\n",
      "RangeIndex: 52785 entries, 0 to 52784\n",
      "Data columns (total 27 columns):\n",
      " #   Column                      Non-Null Count  Dtype  \n",
      "---  ------                      --------------  -----  \n",
      " 0   RecipeId                    52785 non-null  int64  \n",
      " 1   Name                        52785 non-null  object \n",
      " 2   AuthorId                    52785 non-null  int64  \n",
      " 3   AuthorName                  52785 non-null  object \n",
      " 4   CookTime                    52785 non-null  int64  \n",
      " 5   PrepTime                    52785 non-null  int64  \n",
      " 6   TotalTime                   52785 non-null  int64  \n",
      " 7   DatePublished               52785 non-null  object \n",
      " 8   Description                 52785 non-null  object \n",
      " 9   Images                      52785 non-null  object \n",
      " 10  RecipeCategory              52785 non-null  object \n",
      " 11  Keywords                    52785 non-null  object \n",
      " 12  RecipeIngredientQuantities  52785 non-null  object \n",
      " 13  RecipeIngredientParts       52785 non-null  object \n",
      " 14  AggregatedRating            52785 non-null  float64\n",
      " 15  ReviewCount                 52785 non-null  float64\n",
      " 16  Calories                    52785 non-null  int64  \n",
      " 17  FatContent                  52785 non-null  int64  \n",
      " 18  SaturatedFatContent         52785 non-null  int64  \n",
      " 19  CholesterolContent          52785 non-null  int64  \n",
      " 20  SodiumContent               52785 non-null  int64  \n",
      " 21  CarbohydrateContent         52785 non-null  int64  \n",
      " 22  FiberContent                52785 non-null  int64  \n",
      " 23  SugarContent                52785 non-null  int64  \n",
      " 24  ProteinContent              52785 non-null  int64  \n",
      " 25  RecipeServings              52785 non-null  float64\n",
      " 26  RecipeInstructions          52785 non-null  object \n",
      "dtypes: float64(3), int64(14), object(10)\n",
      "memory usage: 10.9+ MB\n"
     ]
    }
   ],
   "source": [
    "# --- Memuat Data Awal ---\n",
    "try:\n",
    "    df = pd.read_csv('../recipes_new.csv')\n",
    "except FileNotFoundError:\n",
    "    print(\"Error: 'recipes_new.csv' not found. Please ensure the file is in the correct directory.\")\n",
    "    exit()\n",
    "\n",
    "pd.set_option('display.max_columns', None)\n",
    "pd.set_option('display.expand_frame_repr', False)\n",
    "df.head()\n",
    "df.info()\n"
   ]
  },
  {
   "cell_type": "code",
   "execution_count": 33,
   "metadata": {},
   "outputs": [],
   "source": [
    "data = df.copy()"
   ]
  },
  {
   "cell_type": "code",
   "execution_count": 34,
   "metadata": {},
   "outputs": [
    {
     "name": "stdout",
     "output_type": "stream",
     "text": [
      "Selected Data Head:\n"
     ]
    },
    {
     "data": {
      "text/html": [
       "<div>\n",
       "<style scoped>\n",
       "    .dataframe tbody tr th:only-of-type {\n",
       "        vertical-align: middle;\n",
       "    }\n",
       "\n",
       "    .dataframe tbody tr th {\n",
       "        vertical-align: top;\n",
       "    }\n",
       "\n",
       "    .dataframe thead th {\n",
       "        text-align: right;\n",
       "    }\n",
       "</style>\n",
       "<table border=\"1\" class=\"dataframe\">\n",
       "  <thead>\n",
       "    <tr style=\"text-align: right;\">\n",
       "      <th></th>\n",
       "      <th>RecipeId</th>\n",
       "      <th>Name</th>\n",
       "      <th>CookTime</th>\n",
       "      <th>PrepTime</th>\n",
       "      <th>TotalTime</th>\n",
       "      <th>RecipeIngredientParts</th>\n",
       "      <th>Calories</th>\n",
       "      <th>FatContent</th>\n",
       "      <th>SaturatedFatContent</th>\n",
       "      <th>CholesterolContent</th>\n",
       "      <th>SodiumContent</th>\n",
       "      <th>CarbohydrateContent</th>\n",
       "      <th>FiberContent</th>\n",
       "      <th>SugarContent</th>\n",
       "      <th>ProteinContent</th>\n",
       "      <th>RecipeServings</th>\n",
       "      <th>Keywords</th>\n",
       "      <th>Images</th>\n",
       "    </tr>\n",
       "  </thead>\n",
       "  <tbody>\n",
       "    <tr>\n",
       "      <th>0</th>\n",
       "      <td>38</td>\n",
       "      <td>Low-Fat Berry Blue Frozen Dessert</td>\n",
       "      <td>1440</td>\n",
       "      <td>45</td>\n",
       "      <td>1485</td>\n",
       "      <td>blueberries, granulated sugar, vanilla yogurt,...</td>\n",
       "      <td>171</td>\n",
       "      <td>2</td>\n",
       "      <td>1</td>\n",
       "      <td>8</td>\n",
       "      <td>30</td>\n",
       "      <td>37</td>\n",
       "      <td>4</td>\n",
       "      <td>30</td>\n",
       "      <td>3</td>\n",
       "      <td>4.0</td>\n",
       "      <td>Dessert, Low Protein, Low Cholesterol, Healthy...</td>\n",
       "      <td>https://img.sndimg.com/food/image/upload/w_555...</td>\n",
       "    </tr>\n",
       "    <tr>\n",
       "      <th>1</th>\n",
       "      <td>45</td>\n",
       "      <td>Buttermilk Pie With Gingersnap Crumb Crust</td>\n",
       "      <td>50</td>\n",
       "      <td>30</td>\n",
       "      <td>80</td>\n",
       "      <td>sugar, margarine, egg, flour, salt, buttermilk...</td>\n",
       "      <td>228</td>\n",
       "      <td>7</td>\n",
       "      <td>2</td>\n",
       "      <td>24</td>\n",
       "      <td>282</td>\n",
       "      <td>38</td>\n",
       "      <td>0</td>\n",
       "      <td>25</td>\n",
       "      <td>4</td>\n",
       "      <td>8.0</td>\n",
       "      <td>Dessert, Healthy, Weeknight, Oven, &lt; 4 Hours</td>\n",
       "      <td>https://img.sndimg.com/food/image/upload/w_555...</td>\n",
       "    </tr>\n",
       "    <tr>\n",
       "      <th>2</th>\n",
       "      <td>49</td>\n",
       "      <td>Chicken Breasts Lombardi</td>\n",
       "      <td>30</td>\n",
       "      <td>45</td>\n",
       "      <td>75</td>\n",
       "      <td>fresh mushrooms, butter, boneless skinless chi...</td>\n",
       "      <td>628</td>\n",
       "      <td>25</td>\n",
       "      <td>13</td>\n",
       "      <td>203</td>\n",
       "      <td>849</td>\n",
       "      <td>14</td>\n",
       "      <td>1</td>\n",
       "      <td>2</td>\n",
       "      <td>58</td>\n",
       "      <td>6.0</td>\n",
       "      <td>Chicken, Poultry, Meat, European, Very Low Car...</td>\n",
       "      <td>https://img.sndimg.com/food/image/upload/w_555...</td>\n",
       "    </tr>\n",
       "    <tr>\n",
       "      <th>3</th>\n",
       "      <td>56</td>\n",
       "      <td>Buttermilk Pie</td>\n",
       "      <td>60</td>\n",
       "      <td>20</td>\n",
       "      <td>80</td>\n",
       "      <td>butter, margarine, sugar, flour, eggs, salt, v...</td>\n",
       "      <td>396</td>\n",
       "      <td>19</td>\n",
       "      <td>10</td>\n",
       "      <td>102</td>\n",
       "      <td>270</td>\n",
       "      <td>52</td>\n",
       "      <td>1</td>\n",
       "      <td>40</td>\n",
       "      <td>5</td>\n",
       "      <td>8.0</td>\n",
       "      <td>Dessert, Oven, &lt; 4 Hours, Easy</td>\n",
       "      <td>https://img.sndimg.com/food/image/upload/w_555...</td>\n",
       "    </tr>\n",
       "    <tr>\n",
       "      <th>4</th>\n",
       "      <td>58</td>\n",
       "      <td>Low-Fat Burgundy Beef &amp; Vegetable Stew</td>\n",
       "      <td>134</td>\n",
       "      <td>30</td>\n",
       "      <td>164</td>\n",
       "      <td>beef eye round, dried thyme leaves, salt, pepp...</td>\n",
       "      <td>280</td>\n",
       "      <td>6</td>\n",
       "      <td>2</td>\n",
       "      <td>67</td>\n",
       "      <td>592</td>\n",
       "      <td>22</td>\n",
       "      <td>6</td>\n",
       "      <td>9</td>\n",
       "      <td>30</td>\n",
       "      <td>6.0</td>\n",
       "      <td>Vegetable, Meat, Low Cholesterol, Healthy, Fre...</td>\n",
       "      <td>https://img.sndimg.com/food/image/upload/w_555...</td>\n",
       "    </tr>\n",
       "  </tbody>\n",
       "</table>\n",
       "</div>"
      ],
      "text/plain": [
       "   RecipeId                                        Name  CookTime  PrepTime  TotalTime                              RecipeIngredientParts  Calories  FatContent  SaturatedFatContent  CholesterolContent  SodiumContent  CarbohydrateContent  FiberContent  SugarContent  ProteinContent  RecipeServings                                           Keywords                                             Images\n",
       "0        38           Low-Fat Berry Blue Frozen Dessert      1440        45       1485  blueberries, granulated sugar, vanilla yogurt,...       171           2                    1                   8             30                   37             4            30               3             4.0  Dessert, Low Protein, Low Cholesterol, Healthy...  https://img.sndimg.com/food/image/upload/w_555...\n",
       "1        45  Buttermilk Pie With Gingersnap Crumb Crust        50        30         80  sugar, margarine, egg, flour, salt, buttermilk...       228           7                    2                  24            282                   38             0            25               4             8.0       Dessert, Healthy, Weeknight, Oven, < 4 Hours  https://img.sndimg.com/food/image/upload/w_555...\n",
       "2        49                    Chicken Breasts Lombardi        30        45         75  fresh mushrooms, butter, boneless skinless chi...       628          25                   13                 203            849                   14             1             2              58             6.0  Chicken, Poultry, Meat, European, Very Low Car...  https://img.sndimg.com/food/image/upload/w_555...\n",
       "3        56                              Buttermilk Pie        60        20         80  butter, margarine, sugar, flour, eggs, salt, v...       396          19                   10                 102            270                   52             1            40               5             8.0                     Dessert, Oven, < 4 Hours, Easy  https://img.sndimg.com/food/image/upload/w_555...\n",
       "4        58      Low-Fat Burgundy Beef & Vegetable Stew       134        30        164  beef eye round, dried thyme leaves, salt, pepp...       280           6                    2                  67            592                   22             6             9              30             6.0  Vegetable, Meat, Low Cholesterol, Healthy, Fre...  https://img.sndimg.com/food/image/upload/w_555..."
      ]
     },
     "metadata": {},
     "output_type": "display_data"
    },
    {
     "name": "stdout",
     "output_type": "stream",
     "text": [
      "\n",
      "Selected Data Info:\n",
      "<class 'pandas.core.frame.DataFrame'>\n",
      "RangeIndex: 52785 entries, 0 to 52784\n",
      "Data columns (total 18 columns):\n",
      " #   Column                 Non-Null Count  Dtype  \n",
      "---  ------                 --------------  -----  \n",
      " 0   RecipeId               52785 non-null  int64  \n",
      " 1   Name                   52785 non-null  object \n",
      " 2   CookTime               52785 non-null  int64  \n",
      " 3   PrepTime               52785 non-null  int64  \n",
      " 4   TotalTime              52785 non-null  int64  \n",
      " 5   RecipeIngredientParts  52785 non-null  object \n",
      " 6   Calories               52785 non-null  int64  \n",
      " 7   FatContent             52785 non-null  int64  \n",
      " 8   SaturatedFatContent    52785 non-null  int64  \n",
      " 9   CholesterolContent     52785 non-null  int64  \n",
      " 10  SodiumContent          52785 non-null  int64  \n",
      " 11  CarbohydrateContent    52785 non-null  int64  \n",
      " 12  FiberContent           52785 non-null  int64  \n",
      " 13  SugarContent           52785 non-null  int64  \n",
      " 14  ProteinContent         52785 non-null  int64  \n",
      " 15  RecipeServings         52785 non-null  float64\n",
      " 16  Keywords               52785 non-null  object \n",
      " 17  Images                 52785 non-null  object \n",
      "dtypes: float64(1), int64(13), object(4)\n",
      "memory usage: 7.2+ MB\n",
      "Initial data shape: (52785, 18)\n"
     ]
    }
   ],
   "source": [
    "columns = [\n",
    "    'RecipeId', 'Name', 'CookTime', 'PrepTime', 'TotalTime',\n",
    "    'RecipeIngredientParts', 'Calories', 'FatContent', 'SaturatedFatContent',\n",
    "    'CholesterolContent', 'SodiumContent', 'CarbohydrateContent',\n",
    "    'FiberContent', 'SugarContent', 'ProteinContent', 'RecipeServings', 'Keywords',\n",
    "    'Images'\n",
    "]\n",
    "data = data[columns]\n",
    "\n",
    "print(\"Selected Data Head:\")\n",
    "display(data.head())\n",
    "print(\"\\nSelected Data Info:\")\n",
    "data.info()\n",
    "print(f\"Initial data shape: {data.shape}\")"
   ]
  },
  {
   "cell_type": "code",
   "execution_count": 35,
   "metadata": {},
   "outputs": [
    {
     "name": "stdout",
     "output_type": "stream",
     "text": [
      "Number of unique keywords after binarization: 267\n"
     ]
    }
   ],
   "source": [
    "# --- 3.1. Preprocessing Keywords (sekarang 'tags') ---\n",
    "data.rename(columns={'Keywords': 'tags'}, inplace=True)\n",
    "data['tags'] = data['tags'].astype(str).apply(lambda x: re.sub(r'[^a-zA-Z, ]', '', x))\n",
    "data['tags'] = data['tags'].apply(lambda x: [tag.strip() for tag in x.lower().split(',') if tag.strip()])\n",
    "\n",
    "mlb = MultiLabelBinarizer()\n",
    "tags_encoded = mlb.fit_transform(data['tags'])\n",
    "tags_df = pd.DataFrame(tags_encoded, columns=mlb.classes_, index=data.index)\n",
    "print(f\"Number of unique keywords after binarization: {len(mlb.classes_)}\")\n",
    "\n",
    "data_processed = pd.concat([data, tags_df], axis=1)"
   ]
  },
  {
   "cell_type": "code",
   "execution_count": 36,
   "metadata": {},
   "outputs": [
    {
     "name": "stdout",
     "output_type": "stream",
     "text": [
      "Data after Calorie Binning and Encoding:\n"
     ]
    },
    {
     "data": {
      "text/html": [
       "<div>\n",
       "<style scoped>\n",
       "    .dataframe tbody tr th:only-of-type {\n",
       "        vertical-align: middle;\n",
       "    }\n",
       "\n",
       "    .dataframe tbody tr th {\n",
       "        vertical-align: top;\n",
       "    }\n",
       "\n",
       "    .dataframe thead th {\n",
       "        text-align: right;\n",
       "    }\n",
       "</style>\n",
       "<table border=\"1\" class=\"dataframe\">\n",
       "  <thead>\n",
       "    <tr style=\"text-align: right;\">\n",
       "      <th></th>\n",
       "      <th>Name</th>\n",
       "      <th>Calories</th>\n",
       "      <th>calorie_bin</th>\n",
       "      <th>calorie_bin_encoded</th>\n",
       "    </tr>\n",
       "  </thead>\n",
       "  <tbody>\n",
       "    <tr>\n",
       "      <th>0</th>\n",
       "      <td>Low-Fat Berry Blue Frozen Dessert</td>\n",
       "      <td>171</td>\n",
       "      <td>0-200</td>\n",
       "      <td>0</td>\n",
       "    </tr>\n",
       "    <tr>\n",
       "      <th>1</th>\n",
       "      <td>Buttermilk Pie With Gingersnap Crumb Crust</td>\n",
       "      <td>228</td>\n",
       "      <td>201-400</td>\n",
       "      <td>2</td>\n",
       "    </tr>\n",
       "    <tr>\n",
       "      <th>2</th>\n",
       "      <td>Chicken Breasts Lombardi</td>\n",
       "      <td>628</td>\n",
       "      <td>601-800</td>\n",
       "      <td>4</td>\n",
       "    </tr>\n",
       "    <tr>\n",
       "      <th>3</th>\n",
       "      <td>Buttermilk Pie</td>\n",
       "      <td>396</td>\n",
       "      <td>201-400</td>\n",
       "      <td>2</td>\n",
       "    </tr>\n",
       "    <tr>\n",
       "      <th>4</th>\n",
       "      <td>Low-Fat Burgundy Beef &amp; Vegetable Stew</td>\n",
       "      <td>280</td>\n",
       "      <td>201-400</td>\n",
       "      <td>2</td>\n",
       "    </tr>\n",
       "  </tbody>\n",
       "</table>\n",
       "</div>"
      ],
      "text/plain": [
       "                                         Name  Calories calorie_bin  calorie_bin_encoded\n",
       "0           Low-Fat Berry Blue Frozen Dessert       171       0-200                    0\n",
       "1  Buttermilk Pie With Gingersnap Crumb Crust       228     201-400                    2\n",
       "2                    Chicken Breasts Lombardi       628     601-800                    4\n",
       "3                              Buttermilk Pie       396     201-400                    2\n",
       "4      Low-Fat Burgundy Beef & Vegetable Stew       280     201-400                    2"
      ]
     },
     "metadata": {},
     "output_type": "display_data"
    },
    {
     "name": "stdout",
     "output_type": "stream",
     "text": [
      "Calorie Bins and their Encoded Values:\n",
      "  0-200: 0\n",
      "  1000+: 1\n",
      "  201-400: 2\n",
      "  401-600: 3\n",
      "  601-800: 4\n",
      "  801-1000: 5\n"
     ]
    }
   ],
   "source": [
    "# --- 3.2. Preprocessing Calories dan fitur numerik lainnya ---\n",
    "data_processed.dropna(subset=['Calories'], inplace=True)\n",
    "data_processed['Calories'] = data_processed['Calories'].astype(int)\n",
    "\n",
    "bins = [0, 200, 400, 600, 800, 1000, np.inf]\n",
    "labels = ['0-200', '201-400', '401-600', '601-800', '801-1000', '1000+']\n",
    "data_processed['calorie_bin'] = pd.cut(data_processed['Calories'], bins=bins, labels=labels, right=True, include_lowest=True)\n",
    "\n",
    "le = LabelEncoder()\n",
    "data_processed['calorie_bin_encoded'] = le.fit_transform(data_processed['calorie_bin'])\n",
    "print(\"Data after Calorie Binning and Encoding:\")\n",
    "display(data_processed[['Name', 'Calories', 'calorie_bin', 'calorie_bin_encoded']].head())\n",
    "print(\"Calorie Bins and their Encoded Values:\")\n",
    "for i, label in enumerate(le.classes_):\n",
    "    print(f\"  {label}: {i}\")"
   ]
  },
  {
   "cell_type": "code",
   "execution_count": 37,
   "metadata": {},
   "outputs": [
    {
     "name": "stdout",
     "output_type": "stream",
     "text": [
      "Features (X) columns for model training: ['CookTime', 'PrepTime', 'TotalTime', 'FatContent', 'SaturatedFatContent']... (279 total)\n",
      "X_train_tf shape: (42228, 279), y_train_tf shape: (42228,)\n",
      "X_test_tf shape: (10557, 279), y_test_tf shape: (10557,)\n"
     ]
    }
   ],
   "source": [
    "numerical_features = [\n",
    "    'CookTime', 'PrepTime', 'TotalTime',\n",
    "    'FatContent', 'SaturatedFatContent', 'CholesterolContent', 'SodiumContent',\n",
    "    'CarbohydrateContent', 'FiberContent', 'SugarContent', 'ProteinContent',\n",
    "    'RecipeServings'\n",
    "]\n",
    "\n",
    "for col in numerical_features:\n",
    "    if col in data_processed.columns:\n",
    "        data_processed[col] = pd.to_numeric(data_processed[col], errors='coerce').fillna(0)\n",
    "\n",
    "binarized_tag_features = mlb.classes_.tolist()\n",
    "feature_columns_for_X = numerical_features + binarized_tag_features\n",
    "\n",
    "X = data_processed[feature_columns_for_X].copy()\n",
    "y = data_processed['calorie_bin_encoded'].copy()\n",
    "\n",
    "model_input_feature_columns = X.columns.tolist()\n",
    "print(f\"Features (X) columns for model training: {model_input_feature_columns[:5]}... ({len(model_input_feature_columns)} total)\")\n",
    "\n",
    "# Pembagian data menjadi training dan testing set\n",
    "# Konversi ke NumPy array dengan tipe data yang tepat untuk TensorFlow\n",
    "X_train, X_test, y_train, y_test = train_test_split(X, y, test_size=0.2, random_state=42, stratify=y)\n",
    "\n",
    "X_train_tf = X_train.values.astype(np.float32)\n",
    "X_test_tf = X_test.values.astype(np.float32)\n",
    "y_train_tf = y_train.values.astype(np.int32)\n",
    "y_test_tf = y_test.values.astype(np.int32)\n",
    "\n",
    "print(f\"X_train_tf shape: {X_train_tf.shape}, y_train_tf shape: {y_train_tf.shape}\")\n",
    "print(f\"X_test_tf shape: {X_test_tf.shape}, y_test_tf shape: {y_test_tf.shape}\")"
   ]
  },
  {
   "cell_type": "code",
   "execution_count": 38,
   "metadata": {},
   "outputs": [
    {
     "name": "stdout",
     "output_type": "stream",
     "text": [
      "\n",
      "--- Membangun dan Melatih Model TensorFlow (MLP) ---\n",
      "\n",
      "TensorFlow Model Summary:\n"
     ]
    },
    {
     "data": {
      "text/html": [
       "<pre style=\"white-space:pre;overflow-x:auto;line-height:normal;font-family:Menlo,'DejaVu Sans Mono',consolas,'Courier New',monospace\"><span style=\"font-weight: bold\">Model: \"sequential_1\"</span>\n",
       "</pre>\n"
      ],
      "text/plain": [
       "\u001b[1mModel: \"sequential_1\"\u001b[0m\n"
      ]
     },
     "metadata": {},
     "output_type": "display_data"
    },
    {
     "data": {
      "text/html": [
       "<pre style=\"white-space:pre;overflow-x:auto;line-height:normal;font-family:Menlo,'DejaVu Sans Mono',consolas,'Courier New',monospace\">┏━━━━━━━━━━━━━━━━━━━━━━━━━━━━━━━━━┳━━━━━━━━━━━━━━━━━━━━━━━━┳━━━━━━━━━━━━━━━┓\n",
       "┃<span style=\"font-weight: bold\"> Layer (type)                    </span>┃<span style=\"font-weight: bold\"> Output Shape           </span>┃<span style=\"font-weight: bold\">       Param # </span>┃\n",
       "┡━━━━━━━━━━━━━━━━━━━━━━━━━━━━━━━━━╇━━━━━━━━━━━━━━━━━━━━━━━━╇━━━━━━━━━━━━━━━┩\n",
       "│ dense_3 (<span style=\"color: #0087ff; text-decoration-color: #0087ff\">Dense</span>)                 │ (<span style=\"color: #00d7ff; text-decoration-color: #00d7ff\">None</span>, <span style=\"color: #00af00; text-decoration-color: #00af00\">128</span>)            │        <span style=\"color: #00af00; text-decoration-color: #00af00\">35,840</span> │\n",
       "├─────────────────────────────────┼────────────────────────┼───────────────┤\n",
       "│ dense_4 (<span style=\"color: #0087ff; text-decoration-color: #0087ff\">Dense</span>)                 │ (<span style=\"color: #00d7ff; text-decoration-color: #00d7ff\">None</span>, <span style=\"color: #00af00; text-decoration-color: #00af00\">64</span>)             │         <span style=\"color: #00af00; text-decoration-color: #00af00\">8,256</span> │\n",
       "├─────────────────────────────────┼────────────────────────┼───────────────┤\n",
       "│ dense_5 (<span style=\"color: #0087ff; text-decoration-color: #0087ff\">Dense</span>)                 │ (<span style=\"color: #00d7ff; text-decoration-color: #00d7ff\">None</span>, <span style=\"color: #00af00; text-decoration-color: #00af00\">6</span>)              │           <span style=\"color: #00af00; text-decoration-color: #00af00\">390</span> │\n",
       "└─────────────────────────────────┴────────────────────────┴───────────────┘\n",
       "</pre>\n"
      ],
      "text/plain": [
       "┏━━━━━━━━━━━━━━━━━━━━━━━━━━━━━━━━━┳━━━━━━━━━━━━━━━━━━━━━━━━┳━━━━━━━━━━━━━━━┓\n",
       "┃\u001b[1m \u001b[0m\u001b[1mLayer (type)                   \u001b[0m\u001b[1m \u001b[0m┃\u001b[1m \u001b[0m\u001b[1mOutput Shape          \u001b[0m\u001b[1m \u001b[0m┃\u001b[1m \u001b[0m\u001b[1m      Param #\u001b[0m\u001b[1m \u001b[0m┃\n",
       "┡━━━━━━━━━━━━━━━━━━━━━━━━━━━━━━━━━╇━━━━━━━━━━━━━━━━━━━━━━━━╇━━━━━━━━━━━━━━━┩\n",
       "│ dense_3 (\u001b[38;5;33mDense\u001b[0m)                 │ (\u001b[38;5;45mNone\u001b[0m, \u001b[38;5;34m128\u001b[0m)            │        \u001b[38;5;34m35,840\u001b[0m │\n",
       "├─────────────────────────────────┼────────────────────────┼───────────────┤\n",
       "│ dense_4 (\u001b[38;5;33mDense\u001b[0m)                 │ (\u001b[38;5;45mNone\u001b[0m, \u001b[38;5;34m64\u001b[0m)             │         \u001b[38;5;34m8,256\u001b[0m │\n",
       "├─────────────────────────────────┼────────────────────────┼───────────────┤\n",
       "│ dense_5 (\u001b[38;5;33mDense\u001b[0m)                 │ (\u001b[38;5;45mNone\u001b[0m, \u001b[38;5;34m6\u001b[0m)              │           \u001b[38;5;34m390\u001b[0m │\n",
       "└─────────────────────────────────┴────────────────────────┴───────────────┘\n"
      ]
     },
     "metadata": {},
     "output_type": "display_data"
    },
    {
     "data": {
      "text/html": [
       "<pre style=\"white-space:pre;overflow-x:auto;line-height:normal;font-family:Menlo,'DejaVu Sans Mono',consolas,'Courier New',monospace\"><span style=\"font-weight: bold\"> Total params: </span><span style=\"color: #00af00; text-decoration-color: #00af00\">44,486</span> (173.77 KB)\n",
       "</pre>\n"
      ],
      "text/plain": [
       "\u001b[1m Total params: \u001b[0m\u001b[38;5;34m44,486\u001b[0m (173.77 KB)\n"
      ]
     },
     "metadata": {},
     "output_type": "display_data"
    },
    {
     "data": {
      "text/html": [
       "<pre style=\"white-space:pre;overflow-x:auto;line-height:normal;font-family:Menlo,'DejaVu Sans Mono',consolas,'Courier New',monospace\"><span style=\"font-weight: bold\"> Trainable params: </span><span style=\"color: #00af00; text-decoration-color: #00af00\">44,486</span> (173.77 KB)\n",
       "</pre>\n"
      ],
      "text/plain": [
       "\u001b[1m Trainable params: \u001b[0m\u001b[38;5;34m44,486\u001b[0m (173.77 KB)\n"
      ]
     },
     "metadata": {},
     "output_type": "display_data"
    },
    {
     "data": {
      "text/html": [
       "<pre style=\"white-space:pre;overflow-x:auto;line-height:normal;font-family:Menlo,'DejaVu Sans Mono',consolas,'Courier New',monospace\"><span style=\"font-weight: bold\"> Non-trainable params: </span><span style=\"color: #00af00; text-decoration-color: #00af00\">0</span> (0.00 B)\n",
       "</pre>\n"
      ],
      "text/plain": [
       "\u001b[1m Non-trainable params: \u001b[0m\u001b[38;5;34m0\u001b[0m (0.00 B)\n"
      ]
     },
     "metadata": {},
     "output_type": "display_data"
    }
   ],
   "source": [
    "# --- MODEL TENSORFLOW SEBAGAI MODEL UTAMA ---\n",
    "print(\"\\n--- Membangun dan Melatih Model TensorFlow (MLP) ---\")\n",
    "\n",
    "# Tentukan jumlah fitur input dan jumlah kelas output\n",
    "input_shape = X_train_tf.shape[1]\n",
    "num_classes = len(np.unique(y_train_tf))\n",
    "\n",
    "# Bangun model Sequential (MLP)\n",
    "tf_model = Sequential([\n",
    "    Input(shape=(input_shape,)), # Menggunakan Input layer eksplisit untuk clarity\n",
    "    Dense(128, activation='relu'),\n",
    "    Dense(64, activation='relu'),\n",
    "    Dense(num_classes, activation='softmax')\n",
    "])\n",
    "\n",
    "# Kompilasi model\n",
    "# Gunakan `SparseCategoricalCrossentropy` karena label `y` adalah integer\n",
    "tf_model.compile(optimizer=Adam(learning_rate=0.001),\n",
    "                 loss=SparseCategoricalCrossentropy(),\n",
    "                 metrics=['accuracy'])\n",
    "\n",
    "print(\"\\nTensorFlow Model Summary:\")\n",
    "tf_model.summary()"
   ]
  },
  {
   "cell_type": "code",
   "execution_count": 39,
   "metadata": {},
   "outputs": [
    {
     "name": "stdout",
     "output_type": "stream",
     "text": [
      "Calculated Class Weights (TensorFlow): {0: 0.6534818941504178, 1: 37.04210526315789, 2: 0.3855804525283515, 3: 0.7763927192498621, 4: 2.30527350147396, 5: 7.846153846153846}\n"
     ]
    }
   ],
   "source": [
    "# Hitung bobot kelas untuk menangani ketidakseimbangan kelas (jika ada)\n",
    "class_weights_array = class_weight.compute_class_weight('balanced', classes=np.unique(y_train_tf), y=y_train_tf)\n",
    "class_weight_dict_tf = dict(enumerate(class_weights_array))\n",
    "print(\"Calculated Class Weights (TensorFlow):\", class_weight_dict_tf)"
   ]
  },
  {
   "cell_type": "code",
   "execution_count": 40,
   "metadata": {},
   "outputs": [
    {
     "name": "stdout",
     "output_type": "stream",
     "text": [
      "\n",
      "Training TensorFlow Model in progress...\n",
      "Epoch 1/50\n",
      "\u001b[1m1320/1320\u001b[0m \u001b[32m━━━━━━━━━━━━━━━━━━━━\u001b[0m\u001b[37m\u001b[0m \u001b[1m3s\u001b[0m 1ms/step - accuracy: 0.2664 - loss: 8.5385 - val_accuracy: 0.4671 - val_loss: 1.6715\n",
      "Epoch 2/50\n",
      "\u001b[1m1320/1320\u001b[0m \u001b[32m━━━━━━━━━━━━━━━━━━━━\u001b[0m\u001b[37m\u001b[0m \u001b[1m1s\u001b[0m 807us/step - accuracy: 0.4507 - loss: 2.4625 - val_accuracy: 0.5623 - val_loss: 1.6722\n",
      "Epoch 3/50\n",
      "\u001b[1m1320/1320\u001b[0m \u001b[32m━━━━━━━━━━━━━━━━━━━━\u001b[0m\u001b[37m\u001b[0m \u001b[1m1s\u001b[0m 837us/step - accuracy: 0.5520 - loss: 1.6729 - val_accuracy: 0.6679 - val_loss: 0.9089\n",
      "Epoch 4/50\n",
      "\u001b[1m1320/1320\u001b[0m \u001b[32m━━━━━━━━━━━━━━━━━━━━\u001b[0m\u001b[37m\u001b[0m \u001b[1m1s\u001b[0m 788us/step - accuracy: 0.6580 - loss: 1.0758 - val_accuracy: 0.6837 - val_loss: 0.8727\n",
      "Epoch 5/50\n",
      "\u001b[1m1320/1320\u001b[0m \u001b[32m━━━━━━━━━━━━━━━━━━━━\u001b[0m\u001b[37m\u001b[0m \u001b[1m1s\u001b[0m 791us/step - accuracy: 0.6823 - loss: 0.9765 - val_accuracy: 0.7134 - val_loss: 0.6529\n",
      "Epoch 6/50\n",
      "\u001b[1m1320/1320\u001b[0m \u001b[32m━━━━━━━━━━━━━━━━━━━━\u001b[0m\u001b[37m\u001b[0m \u001b[1m1s\u001b[0m 806us/step - accuracy: 0.7429 - loss: 0.7726 - val_accuracy: 0.7766 - val_loss: 0.5320\n",
      "Epoch 7/50\n",
      "\u001b[1m1320/1320\u001b[0m \u001b[32m━━━━━━━━━━━━━━━━━━━━\u001b[0m\u001b[37m\u001b[0m \u001b[1m1s\u001b[0m 1ms/step - accuracy: 0.7629 - loss: 0.7331 - val_accuracy: 0.7855 - val_loss: 0.5171\n",
      "Epoch 8/50\n",
      "\u001b[1m1320/1320\u001b[0m \u001b[32m━━━━━━━━━━━━━━━━━━━━\u001b[0m\u001b[37m\u001b[0m \u001b[1m1s\u001b[0m 853us/step - accuracy: 0.7776 - loss: 0.6953 - val_accuracy: 0.8378 - val_loss: 0.3986\n",
      "Epoch 9/50\n",
      "\u001b[1m1320/1320\u001b[0m \u001b[32m━━━━━━━━━━━━━━━━━━━━\u001b[0m\u001b[37m\u001b[0m \u001b[1m2s\u001b[0m 1ms/step - accuracy: 0.8112 - loss: 0.5769 - val_accuracy: 0.7828 - val_loss: 0.4975\n",
      "Epoch 10/50\n",
      "\u001b[1m1320/1320\u001b[0m \u001b[32m━━━━━━━━━━━━━━━━━━━━\u001b[0m\u001b[37m\u001b[0m \u001b[1m3s\u001b[0m 2ms/step - accuracy: 0.8151 - loss: 0.6159 - val_accuracy: 0.8150 - val_loss: 0.4372\n",
      "Epoch 11/50\n",
      "\u001b[1m1320/1320\u001b[0m \u001b[32m━━━━━━━━━━━━━━━━━━━━\u001b[0m\u001b[37m\u001b[0m \u001b[1m2s\u001b[0m 1ms/step - accuracy: 0.8351 - loss: 0.5425 - val_accuracy: 0.8507 - val_loss: 0.3690\n",
      "Epoch 12/50\n",
      "\u001b[1m1320/1320\u001b[0m \u001b[32m━━━━━━━━━━━━━━━━━━━━\u001b[0m\u001b[37m\u001b[0m \u001b[1m2s\u001b[0m 1ms/step - accuracy: 0.8468 - loss: 0.5036 - val_accuracy: 0.6842 - val_loss: 0.7099\n",
      "Epoch 13/50\n",
      "\u001b[1m1320/1320\u001b[0m \u001b[32m━━━━━━━━━━━━━━━━━━━━\u001b[0m\u001b[37m\u001b[0m \u001b[1m2s\u001b[0m 1ms/step - accuracy: 0.8536 - loss: 0.4963 - val_accuracy: 0.7667 - val_loss: 0.5289\n",
      "Epoch 14/50\n",
      "\u001b[1m1320/1320\u001b[0m \u001b[32m━━━━━━━━━━━━━━━━━━━━\u001b[0m\u001b[37m\u001b[0m \u001b[1m2s\u001b[0m 2ms/step - accuracy: 0.8543 - loss: 0.4841 - val_accuracy: 0.8319 - val_loss: 0.4450\n",
      "Epoch 15/50\n",
      "\u001b[1m1320/1320\u001b[0m \u001b[32m━━━━━━━━━━━━━━━━━━━━\u001b[0m\u001b[37m\u001b[0m \u001b[1m2s\u001b[0m 1ms/step - accuracy: 0.8529 - loss: 0.4676 - val_accuracy: 0.8850 - val_loss: 0.2989\n",
      "Epoch 16/50\n",
      "\u001b[1m1320/1320\u001b[0m \u001b[32m━━━━━━━━━━━━━━━━━━━━\u001b[0m\u001b[37m\u001b[0m \u001b[1m2s\u001b[0m 1ms/step - accuracy: 0.8703 - loss: 0.4343 - val_accuracy: 0.8785 - val_loss: 0.3603\n",
      "Epoch 17/50\n",
      "\u001b[1m1320/1320\u001b[0m \u001b[32m━━━━━━━━━━━━━━━━━━━━\u001b[0m\u001b[37m\u001b[0m \u001b[1m2s\u001b[0m 1ms/step - accuracy: 0.8763 - loss: 0.4278 - val_accuracy: 0.9186 - val_loss: 0.2415\n",
      "Epoch 18/50\n",
      "\u001b[1m1320/1320\u001b[0m \u001b[32m━━━━━━━━━━━━━━━━━━━━\u001b[0m\u001b[37m\u001b[0m \u001b[1m2s\u001b[0m 1ms/step - accuracy: 0.8781 - loss: 0.4175 - val_accuracy: 0.8997 - val_loss: 0.2651\n",
      "Epoch 19/50\n",
      "\u001b[1m1320/1320\u001b[0m \u001b[32m━━━━━━━━━━━━━━━━━━━━\u001b[0m\u001b[37m\u001b[0m \u001b[1m2s\u001b[0m 1ms/step - accuracy: 0.8852 - loss: 0.4089 - val_accuracy: 0.9117 - val_loss: 0.2413\n",
      "Epoch 20/50\n",
      "\u001b[1m1320/1320\u001b[0m \u001b[32m━━━━━━━━━━━━━━━━━━━━\u001b[0m\u001b[37m\u001b[0m \u001b[1m2s\u001b[0m 1ms/step - accuracy: 0.8882 - loss: 0.3886 - val_accuracy: 0.8734 - val_loss: 0.3378\n",
      "Epoch 21/50\n",
      "\u001b[1m1320/1320\u001b[0m \u001b[32m━━━━━━━━━━━━━━━━━━━━\u001b[0m\u001b[37m\u001b[0m \u001b[1m2s\u001b[0m 1ms/step - accuracy: 0.8936 - loss: 0.3360 - val_accuracy: 0.7085 - val_loss: 0.7216\n",
      "Epoch 22/50\n",
      "\u001b[1m1320/1320\u001b[0m \u001b[32m━━━━━━━━━━━━━━━━━━━━\u001b[0m\u001b[37m\u001b[0m \u001b[1m2s\u001b[0m 1ms/step - accuracy: 0.8861 - loss: 0.3734 - val_accuracy: 0.9176 - val_loss: 0.2224\n",
      "Epoch 23/50\n",
      "\u001b[1m1320/1320\u001b[0m \u001b[32m━━━━━━━━━━━━━━━━━━━━\u001b[0m\u001b[37m\u001b[0m \u001b[1m1s\u001b[0m 1ms/step - accuracy: 0.9005 - loss: 0.3172 - val_accuracy: 0.8214 - val_loss: 0.3844\n",
      "Epoch 24/50\n",
      "\u001b[1m1320/1320\u001b[0m \u001b[32m━━━━━━━━━━━━━━━━━━━━\u001b[0m\u001b[37m\u001b[0m \u001b[1m1s\u001b[0m 1ms/step - accuracy: 0.8984 - loss: 0.3352 - val_accuracy: 0.9237 - val_loss: 0.2128\n",
      "Epoch 25/50\n",
      "\u001b[1m1320/1320\u001b[0m \u001b[32m━━━━━━━━━━━━━━━━━━━━\u001b[0m\u001b[37m\u001b[0m \u001b[1m2s\u001b[0m 2ms/step - accuracy: 0.9141 - loss: 0.2807 - val_accuracy: 0.8857 - val_loss: 0.2679\n",
      "Epoch 26/50\n",
      "\u001b[1m1320/1320\u001b[0m \u001b[32m━━━━━━━━━━━━━━━━━━━━\u001b[0m\u001b[37m\u001b[0m \u001b[1m2s\u001b[0m 2ms/step - accuracy: 0.9113 - loss: 0.2920 - val_accuracy: 0.8783 - val_loss: 0.2843\n",
      "Epoch 27/50\n",
      "\u001b[1m1320/1320\u001b[0m \u001b[32m━━━━━━━━━━━━━━━━━━━━\u001b[0m\u001b[37m\u001b[0m \u001b[1m2s\u001b[0m 1ms/step - accuracy: 0.8962 - loss: 0.3170 - val_accuracy: 0.9107 - val_loss: 0.2208\n",
      "Epoch 28/50\n",
      "\u001b[1m1320/1320\u001b[0m \u001b[32m━━━━━━━━━━━━━━━━━━━━\u001b[0m\u001b[37m\u001b[0m \u001b[1m2s\u001b[0m 1ms/step - accuracy: 0.9108 - loss: 0.2814 - val_accuracy: 0.8890 - val_loss: 0.2749\n",
      "Epoch 29/50\n",
      "\u001b[1m1320/1320\u001b[0m \u001b[32m━━━━━━━━━━━━━━━━━━━━\u001b[0m\u001b[37m\u001b[0m \u001b[1m2s\u001b[0m 1ms/step - accuracy: 0.9139 - loss: 0.2842 - val_accuracy: 0.8326 - val_loss: 0.3735\n",
      "Epoch 30/50\n",
      "\u001b[1m1320/1320\u001b[0m \u001b[32m━━━━━━━━━━━━━━━━━━━━\u001b[0m\u001b[37m\u001b[0m \u001b[1m2s\u001b[0m 1ms/step - accuracy: 0.9063 - loss: 0.2970 - val_accuracy: 0.9281 - val_loss: 0.2183\n",
      "Epoch 31/50\n",
      "\u001b[1m1320/1320\u001b[0m \u001b[32m━━━━━━━━━━━━━━━━━━━━\u001b[0m\u001b[37m\u001b[0m \u001b[1m2s\u001b[0m 1ms/step - accuracy: 0.9170 - loss: 0.2668 - val_accuracy: 0.9200 - val_loss: 0.2083\n",
      "Epoch 32/50\n",
      "\u001b[1m1320/1320\u001b[0m \u001b[32m━━━━━━━━━━━━━━━━━━━━\u001b[0m\u001b[37m\u001b[0m \u001b[1m2s\u001b[0m 1ms/step - accuracy: 0.9137 - loss: 0.2666 - val_accuracy: 0.8346 - val_loss: 0.3581\n",
      "Epoch 33/50\n",
      "\u001b[1m1320/1320\u001b[0m \u001b[32m━━━━━━━━━━━━━━━━━━━━\u001b[0m\u001b[37m\u001b[0m \u001b[1m2s\u001b[0m 2ms/step - accuracy: 0.9166 - loss: 0.2716 - val_accuracy: 0.9231 - val_loss: 0.2180\n",
      "Epoch 34/50\n",
      "\u001b[1m1320/1320\u001b[0m \u001b[32m━━━━━━━━━━━━━━━━━━━━\u001b[0m\u001b[37m\u001b[0m \u001b[1m1s\u001b[0m 1ms/step - accuracy: 0.9204 - loss: 0.2607 - val_accuracy: 0.9390 - val_loss: 0.1767\n",
      "Epoch 35/50\n",
      "\u001b[1m1320/1320\u001b[0m \u001b[32m━━━━━━━━━━━━━━━━━━━━\u001b[0m\u001b[37m\u001b[0m \u001b[1m1s\u001b[0m 1ms/step - accuracy: 0.9189 - loss: 0.2836 - val_accuracy: 0.9368 - val_loss: 0.1922\n",
      "Epoch 36/50\n",
      "\u001b[1m1320/1320\u001b[0m \u001b[32m━━━━━━━━━━━━━━━━━━━━\u001b[0m\u001b[37m\u001b[0m \u001b[1m1s\u001b[0m 870us/step - accuracy: 0.9273 - loss: 0.2418 - val_accuracy: 0.9398 - val_loss: 0.1742\n",
      "Epoch 37/50\n",
      "\u001b[1m1320/1320\u001b[0m \u001b[32m━━━━━━━━━━━━━━━━━━━━\u001b[0m\u001b[37m\u001b[0m \u001b[1m1s\u001b[0m 1ms/step - accuracy: 0.9048 - loss: 0.3112 - val_accuracy: 0.9099 - val_loss: 0.2168\n",
      "Epoch 38/50\n",
      "\u001b[1m1320/1320\u001b[0m \u001b[32m━━━━━━━━━━━━━━━━━━━━\u001b[0m\u001b[37m\u001b[0m \u001b[1m2s\u001b[0m 2ms/step - accuracy: 0.9204 - loss: 0.2515 - val_accuracy: 0.9448 - val_loss: 0.1734\n",
      "Epoch 39/50\n",
      "\u001b[1m1320/1320\u001b[0m \u001b[32m━━━━━━━━━━━━━━━━━━━━\u001b[0m\u001b[37m\u001b[0m \u001b[1m2s\u001b[0m 1ms/step - accuracy: 0.9189 - loss: 0.2757 - val_accuracy: 0.9419 - val_loss: 0.1743\n",
      "Epoch 40/50\n",
      "\u001b[1m1320/1320\u001b[0m \u001b[32m━━━━━━━━━━━━━━━━━━━━\u001b[0m\u001b[37m\u001b[0m \u001b[1m2s\u001b[0m 1ms/step - accuracy: 0.9199 - loss: 0.2501 - val_accuracy: 0.9319 - val_loss: 0.1760\n",
      "Epoch 41/50\n",
      "\u001b[1m1320/1320\u001b[0m \u001b[32m━━━━━━━━━━━━━━━━━━━━\u001b[0m\u001b[37m\u001b[0m \u001b[1m2s\u001b[0m 1ms/step - accuracy: 0.9192 - loss: 0.2622 - val_accuracy: 0.8649 - val_loss: 0.3244\n",
      "Epoch 42/50\n",
      "\u001b[1m1320/1320\u001b[0m \u001b[32m━━━━━━━━━━━━━━━━━━━━\u001b[0m\u001b[37m\u001b[0m \u001b[1m2s\u001b[0m 1ms/step - accuracy: 0.9130 - loss: 0.3209 - val_accuracy: 0.9452 - val_loss: 0.1509\n",
      "Epoch 43/50\n",
      "\u001b[1m1320/1320\u001b[0m \u001b[32m━━━━━━━━━━━━━━━━━━━━\u001b[0m\u001b[37m\u001b[0m \u001b[1m3s\u001b[0m 3ms/step - accuracy: 0.9209 - loss: 0.2467 - val_accuracy: 0.8714 - val_loss: 0.3061\n",
      "Epoch 44/50\n",
      "\u001b[1m1320/1320\u001b[0m \u001b[32m━━━━━━━━━━━━━━━━━━━━\u001b[0m\u001b[37m\u001b[0m \u001b[1m4s\u001b[0m 3ms/step - accuracy: 0.9249 - loss: 0.2372 - val_accuracy: 0.9401 - val_loss: 0.1727\n",
      "Epoch 45/50\n",
      "\u001b[1m1320/1320\u001b[0m \u001b[32m━━━━━━━━━━━━━━━━━━━━\u001b[0m\u001b[37m\u001b[0m \u001b[1m3s\u001b[0m 2ms/step - accuracy: 0.9229 - loss: 0.2370 - val_accuracy: 0.9221 - val_loss: 0.2106\n",
      "Epoch 46/50\n",
      "\u001b[1m1320/1320\u001b[0m \u001b[32m━━━━━━━━━━━━━━━━━━━━\u001b[0m\u001b[37m\u001b[0m \u001b[1m2s\u001b[0m 1ms/step - accuracy: 0.9228 - loss: 0.2392 - val_accuracy: 0.9451 - val_loss: 0.1652\n",
      "Epoch 47/50\n",
      "\u001b[1m1320/1320\u001b[0m \u001b[32m━━━━━━━━━━━━━━━━━━━━\u001b[0m\u001b[37m\u001b[0m \u001b[1m2s\u001b[0m 2ms/step - accuracy: 0.9336 - loss: 0.2094 - val_accuracy: 0.9233 - val_loss: 0.1975\n",
      "Epoch 48/50\n",
      "\u001b[1m1320/1320\u001b[0m \u001b[32m━━━━━━━━━━━━━━━━━━━━\u001b[0m\u001b[37m\u001b[0m \u001b[1m1s\u001b[0m 1ms/step - accuracy: 0.9231 - loss: 0.2391 - val_accuracy: 0.9402 - val_loss: 0.1715\n",
      "Epoch 49/50\n",
      "\u001b[1m1320/1320\u001b[0m \u001b[32m━━━━━━━━━━━━━━━━━━━━\u001b[0m\u001b[37m\u001b[0m \u001b[1m1s\u001b[0m 871us/step - accuracy: 0.9296 - loss: 0.2227 - val_accuracy: 0.9424 - val_loss: 0.1712\n",
      "Epoch 50/50\n",
      "\u001b[1m1320/1320\u001b[0m \u001b[32m━━━━━━━━━━━━━━━━━━━━\u001b[0m\u001b[37m\u001b[0m \u001b[1m1s\u001b[0m 1ms/step - accuracy: 0.9319 - loss: 0.2253 - val_accuracy: 0.9312 - val_loss: 0.1817\n",
      "\n",
      "TensorFlow Model Training Complete.\n"
     ]
    }
   ],
   "source": [
    "# Latih model TensorFlow\n",
    "print(\"\\nTraining TensorFlow Model in progress...\")\n",
    "history = tf_model.fit(X_train_tf, y_train_tf,\n",
    "                       epochs=50, # Jumlah epoch dapat disesuaikan\n",
    "                       batch_size=32, # Ukuran batch dapat disesuaikan\n",
    "                       validation_data=(X_test_tf, y_test_tf),\n",
    "                       class_weight=class_weight_dict_tf, # Terapkan bobot kelas\n",
    "                       verbose=1)\n",
    "\n",
    "print(\"\\nTensorFlow Model Training Complete.\")"
   ]
  },
  {
   "cell_type": "code",
   "execution_count": 41,
   "metadata": {},
   "outputs": [
    {
     "name": "stdout",
     "output_type": "stream",
     "text": [
      "\n",
      "--- Evaluasi Model TensorFlow ---\n",
      "Accuracy on Test Set (TensorFlow Model): 0.9312\n",
      "Loss on Test Set (TensorFlow Model): 0.1817\n"
     ]
    }
   ],
   "source": [
    "# Evaluasi model TensorFlow\n",
    "print(\"\\n--- Evaluasi Model TensorFlow ---\")\n",
    "loss_tf, accuracy_tf = tf_model.evaluate(X_test_tf, y_test_tf, verbose=0)\n",
    "print(f\"Accuracy on Test Set (TensorFlow Model): {accuracy_tf:.4f}\")\n",
    "print(f\"Loss on Test Set (TensorFlow Model): {loss_tf:.4f}\")"
   ]
  },
  {
   "cell_type": "code",
   "execution_count": 42,
   "metadata": {},
   "outputs": [
    {
     "name": "stdout",
     "output_type": "stream",
     "text": [
      "\u001b[1m330/330\u001b[0m \u001b[32m━━━━━━━━━━━━━━━━━━━━\u001b[0m\u001b[37m\u001b[0m \u001b[1m0s\u001b[0m 714us/step\n",
      "\n",
      "Classification Report (TensorFlow):\n",
      "              precision    recall  f1-score   support\n",
      "\n",
      "       0-200       0.98      0.94      0.96      2692\n",
      "       1000+       0.77      0.98      0.86        48\n",
      "     201-400       0.96      0.95      0.95      4563\n",
      "     401-600       0.91      0.89      0.90      2266\n",
      "     601-800       0.77      0.92      0.84       764\n",
      "    801-1000       0.81      0.88      0.84       224\n",
      "\n",
      "    accuracy                           0.93     10557\n",
      "   macro avg       0.87      0.93      0.89     10557\n",
      "weighted avg       0.93      0.93      0.93     10557\n",
      "\n"
     ]
    }
   ],
   "source": [
    "y_pred_tf = np.argmax(tf_model.predict(X_test_tf), axis=1)\n",
    "\n",
    "print(\"\\nClassification Report (TensorFlow):\")\n",
    "print(classification_report(y_test_tf, y_pred_tf, target_names=le.classes_))"
   ]
  },
  {
   "cell_type": "code",
   "execution_count": 43,
   "metadata": {},
   "outputs": [
    {
     "name": "stdout",
     "output_type": "stream",
     "text": [
      "\n",
      "Confusion Matrix (TensorFlow):\n"
     ]
    },
    {
     "data": {
      "image/png": "[encoded data removed]",
      "text/plain": [
       "<Figure size 640x480 with 2 Axes>"
      ]
     },
     "metadata": {},
     "output_type": "display_data"
    }
   ],
   "source": [
    "print(\"\\nConfusion Matrix (TensorFlow):\")\n",
    "cm_tf = confusion_matrix(y_test_tf, y_pred_tf)\n",
    "disp_tf = ConfusionMatrixDisplay(confusion_matrix=cm_tf, display_labels=le.classes_)\n",
    "disp_tf.plot(cmap=plt.cm.Blues)\n",
    "plt.title('Confusion Matrix (TensorFlow)')\n",
    "plt.show()\n"
   ]
  },
  {
   "cell_type": "code",
   "execution_count": 44,
   "metadata": {},
   "outputs": [
    {
     "name": "stdout",
     "output_type": "stream",
     "text": [
      "\u001b[1m330/330\u001b[0m \u001b[32m━━━━━━━━━━━━━━━━━━━━\u001b[0m\u001b[37m\u001b[0m \u001b[1m1s\u001b[0m 1ms/step\n",
      "ROC AUC Score (weighted 'ovr', TensorFlow): 0.9937\n"
     ]
    }
   ],
   "source": [
    "try:\n",
    "    y_pred_proba_tf = tf_model.predict(X_test_tf) # Model TF langsung memberikan probabilitas\n",
    "    roc_auc_tf = roc_auc_score(y_test_tf, y_pred_proba_tf, multi_class='ovr', average='weighted', labels=np.unique(y_test_tf))\n",
    "    print(f\"ROC AUC Score (weighted 'ovr', TensorFlow): {roc_auc_tf:.4f}\")\n",
    "except Exception as e:\n",
    "    print(f\"Could not calculate ROC AUC score for TensorFlow: {e}\")"
   ]
  },
  {
   "cell_type": "code",
   "execution_count": 45,
   "metadata": {},
   "outputs": [
    {
     "name": "stderr",
     "output_type": "stream",
     "text": [
      "WARNING:absl:You are saving your model as an HDF5 file via `model.save()` or `keras.saving.save_model(model)`. This file format is considered legacy. We recommend using instead the native Keras format, e.g. `model.save('my_model.keras')` or `keras.saving.save_model(model, 'my_model.keras')`. \n"
     ]
    },
    {
     "name": "stdout",
     "output_type": "stream",
     "text": [
      "Model, preprocessing objects, and bin information saved successfully.\n"
     ]
    }
   ],
   "source": [
    "# --- 7. Save Model and Preprocessing Objects ---\n",
    "try:\n",
    "    # Simpan model TensorFlow\n",
    "    tf_model.save('tensorflow_model.h5') # Simpan dalam format H5\n",
    "\n",
    "    with open('mlb.pkl', 'wb') as f:\n",
    "        pickle.dump(mlb, f)\n",
    "    with open('le.pkl', 'wb') as f:\n",
    "        pickle.dump(le, f)\n",
    "    with open('model_input_feature_columns.pkl', 'wb') as f:\n",
    "        pickle.dump(model_input_feature_columns, f)\n",
    "    with open('bins_labels.pkl', 'wb') as f:\n",
    "        pickle.dump({'bins': bins, 'labels': labels}, f)\n",
    "\n",
    "    print(\"Model, preprocessing objects, and bin information saved successfully.\")\n",
    "except Exception as e:\n",
    "    print(f\"Error saving objects: {e}\")"
   ]
  },
  {
   "cell_type": "code",
   "execution_count": 46,
   "metadata": {},
   "outputs": [
    {
     "name": "stderr",
     "output_type": "stream",
     "text": [
      "WARNING:absl:Compiled the loaded model, but the compiled metrics have yet to be built. `model.compile_metrics` will be empty until you train or evaluate the model.\n"
     ]
    },
    {
     "name": "stdout",
     "output_type": "stream",
     "text": [
      "\n",
      "TensorFlow model and preprocessing objects loaded for recommendation function.\n"
     ]
    }
   ],
   "source": [
    "# --- REPLIKASI LOGIKA BEBAN MODEL UNTUK FUNGSI REKOMENDASI (Sekarang memuat TF model) ---\n",
    "try:\n",
    "    loaded_model = load_model('tensorflow_model.h5') # Memuat model TensorFlow\n",
    "    with open('mlb.pkl', 'rb') as f:\n",
    "        loaded_mlb = pickle.load(f)\n",
    "    with open('le.pkl', 'rb') as f:\n",
    "        loaded_le = pickle.load(f)\n",
    "    with open('model_input_feature_columns.pkl', 'rb') as f:\n",
    "        loaded_model_input_feature_columns = pickle.load(f)\n",
    "    with open('bins_labels.pkl', 'rb') as f:\n",
    "        bin_data = pickle.load(f)\n",
    "        bins = bin_data['bins']\n",
    "        labels = bin_data['labels']\n",
    "    print(\"\\nTensorFlow model and preprocessing objects loaded for recommendation function.\")\n",
    "except Exception as e:\n",
    "    print(f\"Error loading TensorFlow model or preprocessing objects for recommendation: {e}\")\n",
    "    exit() # Hentikan eksekusi jika gagal memuat"
   ]
  },
  {
   "cell_type": "code",
   "execution_count": 47,
   "metadata": {},
   "outputs": [],
   "source": [
    "def search_food_by_keywords(df, keywords, target_calories, top_n=5):\n",
    "    keywords = [k.lower() for k in keywords]\n",
    "    temp_df = df.copy()\n",
    "    temp_df['tags_cleaned'] = temp_df['tags'].copy()\n",
    "\n",
    "    filtered_df = temp_df[temp_df['tags_cleaned'].apply(lambda x: any(k in x for k in keywords))].copy()\n",
    "\n",
    "    if filtered_df.empty:\n",
    "        print(f\"No food found matching keywords: {keywords}\")\n",
    "        return pd.DataFrame(columns=['food', 'tags', 'calories', 'pred_prob'])\n",
    "\n",
    "    target_calorie_label = None\n",
    "    if target_calories <= bins[0]:\n",
    "        target_calorie_label = labels[0]\n",
    "    elif target_calories >= bins[-1]:\n",
    "        target_calorie_label = labels[-1]\n",
    "    else:\n",
    "        for i in range(len(bins) - 1):\n",
    "            if bins[i] < target_calories <= bins[i+1]:\n",
    "                target_calorie_label = labels[i]\n",
    "                break\n",
    "\n",
    "    try:\n",
    "        target_calorie_bin_encoded = loaded_le.transform([target_calorie_label])[0]\n",
    "    except ValueError:\n",
    "        print(f\"Error: Target calorie label '{target_calorie_label}' not found in loaded LabelEncoder classes.\")\n",
    "        return pd.DataFrame(columns=['food', 'tags', 'calories', 'pred_prob'])\n",
    "\n",
    "    filtered_keywords_encoded = loaded_mlb.transform(filtered_df['tags_cleaned'])\n",
    "    filtered_keywords_df = pd.DataFrame(filtered_keywords_encoded, columns=loaded_mlb.classes_, index=filtered_df.index)\n",
    "\n",
    "    X_predict = pd.DataFrame(0, index=filtered_df.index, columns=loaded_model_input_feature_columns)\n",
    "\n",
    "    numerical_features_for_predict = [\n",
    "        'CookTime', 'PrepTime', 'TotalTime',\n",
    "        'FatContent', 'SaturatedFatContent', 'CholesterolContent', 'SodiumContent',\n",
    "        'CarbohydrateContent', 'FiberContent', 'SugarContent', 'ProteinContent',\n",
    "        'RecipeServings'\n",
    "    ]\n",
    "\n",
    "    for col in numerical_features_for_predict:\n",
    "        if col in filtered_df.columns:\n",
    "            X_predict[col] = pd.to_numeric(filtered_df[col], errors='coerce').fillna(0)\n",
    "\n",
    "    for col in loaded_mlb.classes_:\n",
    "        if col in loaded_model_input_feature_columns and col in filtered_keywords_df.columns:\n",
    "            X_predict[col] = filtered_keywords_df[col]\n",
    "\n",
    "    # --- PENTING: Prediksi menggunakan Model TensorFlow ---\n",
    "    # Konversi X_predict ke NumPy array dengan tipe data float32\n",
    "    X_predict_tf = X_predict.values.astype(np.float32)\n",
    "    pred_proba = loaded_model.predict(X_predict_tf) # loaded_model sekarang adalah model TF\n",
    "\n",
    "    if target_calorie_bin_encoded >= pred_proba.shape[1]:\n",
    "        print(f\"Error: Encoded target calorie bin {target_calorie_bin_encoded} is out of bounds for model's prediction probabilities (num_classes={pred_proba.shape[1]}).\")\n",
    "        return pd.DataFrame(columns=['food', 'tags', 'calories', 'pred_prob'])\n",
    "\n",
    "    filtered_df['pred_prob'] = [prob[target_calorie_bin_encoded] for prob in pred_proba]\n",
    "\n",
    "    filtered_df = filtered_df.sort_values(by='pred_prob', ascending=False)\n",
    "\n",
    "    return filtered_df[['Name', 'tags', 'Calories', 'pred_prob']].rename(\n",
    "        columns={'Name': 'food'}\n",
    "    ).head(top_n)"
   ]
  },
  {
   "cell_type": "code",
   "execution_count": 48,
   "metadata": {},
   "outputs": [
    {
     "name": "stdout",
     "output_type": "stream",
     "text": [
      "\n",
      "--- 10. Demonstrating Recommendation Function (Using TensorFlow Model) ---\n",
      "\n",
      "Scenario 1: Keywords=['high protein', 'asian', 'low calorie'], Target Calories=450\n",
      "\u001b[1m149/149\u001b[0m \u001b[32m━━━━━━━━━━━━━━━━━━━━\u001b[0m\u001b[37m\u001b[0m \u001b[1m0s\u001b[0m 714us/step\n"
     ]
    },
    {
     "data": {
      "text/html": [
       "<div>\n",
       "<style scoped>\n",
       "    .dataframe tbody tr th:only-of-type {\n",
       "        vertical-align: middle;\n",
       "    }\n",
       "\n",
       "    .dataframe tbody tr th {\n",
       "        vertical-align: top;\n",
       "    }\n",
       "\n",
       "    .dataframe thead th {\n",
       "        text-align: right;\n",
       "    }\n",
       "</style>\n",
       "<table border=\"1\" class=\"dataframe\">\n",
       "  <thead>\n",
       "    <tr style=\"text-align: right;\">\n",
       "      <th></th>\n",
       "      <th>food</th>\n",
       "      <th>tags</th>\n",
       "      <th>Calories</th>\n",
       "      <th>pred_prob</th>\n",
       "    </tr>\n",
       "  </thead>\n",
       "  <tbody>\n",
       "    <tr>\n",
       "      <th>51727</th>\n",
       "      <td>Easy Yellow Thai Curry</td>\n",
       "      <td>[thai, asian, mins, easy]</td>\n",
       "      <td>480</td>\n",
       "      <td>0.996962</td>\n",
       "    </tr>\n",
       "    <tr>\n",
       "      <th>42825</th>\n",
       "      <td>Dave Roberts' Mac &amp;amp; Cheese</td>\n",
       "      <td>[high protein, high in, weeknight, mins, easy]</td>\n",
       "      <td>475</td>\n",
       "      <td>0.996929</td>\n",
       "    </tr>\n",
       "    <tr>\n",
       "      <th>19083</th>\n",
       "      <td>Garlic Curry Chicken &amp;amp; Spinach</td>\n",
       "      <td>[chicken, spinach, poultry, greens, vegetable,...</td>\n",
       "      <td>467</td>\n",
       "      <td>0.996905</td>\n",
       "    </tr>\n",
       "    <tr>\n",
       "      <th>15333</th>\n",
       "      <td>Coconut Chicken Curry</td>\n",
       "      <td>[poultry, coconut, fruit, nuts, meat, asian, i...</td>\n",
       "      <td>467</td>\n",
       "      <td>0.996792</td>\n",
       "    </tr>\n",
       "    <tr>\n",
       "      <th>20291</th>\n",
       "      <td>The Best Biryani</td>\n",
       "      <td>[lambsheep, poultry, rice, meat, pakistani, as...</td>\n",
       "      <td>494</td>\n",
       "      <td>0.996751</td>\n",
       "    </tr>\n",
       "  </tbody>\n",
       "</table>\n",
       "</div>"
      ],
      "text/plain": [
       "                                     food                                               tags  Calories  pred_prob\n",
       "51727              Easy Yellow Thai Curry                          [thai, asian, mins, easy]       480   0.996962\n",
       "42825      Dave Roberts' Mac &amp; Cheese     [high protein, high in, weeknight, mins, easy]       475   0.996929\n",
       "19083  Garlic Curry Chicken &amp; Spinach  [chicken, spinach, poultry, greens, vegetable,...       467   0.996905\n",
       "15333               Coconut Chicken Curry  [poultry, coconut, fruit, nuts, meat, asian, i...       467   0.996792\n",
       "20291                    The Best Biryani  [lambsheep, poultry, rice, meat, pakistani, as...       494   0.996751"
      ]
     },
     "metadata": {},
     "output_type": "display_data"
    }
   ],
   "source": [
    "print(\"\\n--- 10. Demonstrating Recommendation Function (Using TensorFlow Model) ---\")\n",
    "# Contoh penggunaan 1\n",
    "user_input_1 = ['high protein', 'asian', 'low calorie']\n",
    "user_input_1 = [x.lower() for x in user_input_1]\n",
    "target_calories_1 = 450\n",
    "\n",
    "print(f\"\\nScenario 1: Keywords={user_input_1}, Target Calories={target_calories_1}\")\n",
    "result_1 = search_food_by_keywords(data, user_input_1, target_calories_1, top_n=5)\n",
    "display(result_1)"
   ]
  },
  {
   "cell_type": "code",
   "execution_count": 49,
   "metadata": {},
   "outputs": [
    {
     "name": "stdout",
     "output_type": "stream",
     "text": [
      "\n",
      "Scenario 2: Keywords=['vegetarian', 'dessert', 'chocolate chip cookies'], Target Calories=300\n",
      "\u001b[1m116/116\u001b[0m \u001b[32m━━━━━━━━━━━━━━━━━━━━\u001b[0m\u001b[37m\u001b[0m \u001b[1m0s\u001b[0m 1ms/step  \n"
     ]
    },
    {
     "data": {
      "text/html": [
       "<div>\n",
       "<style scoped>\n",
       "    .dataframe tbody tr th:only-of-type {\n",
       "        vertical-align: middle;\n",
       "    }\n",
       "\n",
       "    .dataframe tbody tr th {\n",
       "        vertical-align: top;\n",
       "    }\n",
       "\n",
       "    .dataframe thead th {\n",
       "        text-align: right;\n",
       "    }\n",
       "</style>\n",
       "<table border=\"1\" class=\"dataframe\">\n",
       "  <thead>\n",
       "    <tr style=\"text-align: right;\">\n",
       "      <th></th>\n",
       "      <th>food</th>\n",
       "      <th>tags</th>\n",
       "      <th>Calories</th>\n",
       "      <th>pred_prob</th>\n",
       "    </tr>\n",
       "  </thead>\n",
       "  <tbody>\n",
       "    <tr>\n",
       "      <th>24455</th>\n",
       "      <td>Cranberry Orange Sherbet</td>\n",
       "      <td>[dessert, berries, citrus, fruit, mins]</td>\n",
       "      <td>255</td>\n",
       "      <td>0.999997</td>\n",
       "    </tr>\n",
       "    <tr>\n",
       "      <th>51676</th>\n",
       "      <td>Fluffy Artoulakia With Chocolate Chips (Greek ...</td>\n",
       "      <td>[dessert, greek, european, mins]</td>\n",
       "      <td>279</td>\n",
       "      <td>0.999995</td>\n",
       "    </tr>\n",
       "    <tr>\n",
       "      <th>22392</th>\n",
       "      <td>Jan's French Pastry Apple Slices</td>\n",
       "      <td>[dessert, apple, fruit, low protein, low chole...</td>\n",
       "      <td>277</td>\n",
       "      <td>0.999980</td>\n",
       "    </tr>\n",
       "  </tbody>\n",
       "</table>\n",
       "</div>"
      ],
      "text/plain": [
       "                                                    food                                               tags  Calories  pred_prob\n",
       "24455                           Cranberry Orange Sherbet            [dessert, berries, citrus, fruit, mins]       255   0.999997\n",
       "51676  Fluffy Artoulakia With Chocolate Chips (Greek ...                   [dessert, greek, european, mins]       279   0.999995\n",
       "22392                   Jan's French Pastry Apple Slices  [dessert, apple, fruit, low protein, low chole...       277   0.999980"
      ]
     },
     "metadata": {},
     "output_type": "display_data"
    }
   ],
   "source": [
    "# Contoh dengan kata kunci yang berbeda 2\n",
    "user_input_2 = ['vegetarian', 'dessert', 'chocolate chip cookies']\n",
    "user_input_2 = [x.lower() for x in user_input_2]\n",
    "target_calories_2 = 300\n",
    "print(f\"\\nScenario 2: Keywords={user_input_2}, Target Calories={target_calories_2}\")\n",
    "result_2 = search_food_by_keywords(data, user_input_2, target_calories_2, top_n=3)\n",
    "display(result_2)"
   ]
  },
  {
   "cell_type": "code",
   "execution_count": 50,
   "metadata": {},
   "outputs": [
    {
     "name": "stdout",
     "output_type": "stream",
     "text": [
      "\n",
      "--- Skenario 3: Resep Makan Malam Cepat, Tinggi Serat (Target 650 kcal) ---\n",
      "\u001b[1m284/284\u001b[0m \u001b[32m━━━━━━━━━━━━━━━━━━━━\u001b[0m\u001b[37m\u001b[0m \u001b[1m0s\u001b[0m 364us/step\n"
     ]
    },
    {
     "data": {
      "text/html": [
       "<div>\n",
       "<style scoped>\n",
       "    .dataframe tbody tr th:only-of-type {\n",
       "        vertical-align: middle;\n",
       "    }\n",
       "\n",
       "    .dataframe tbody tr th {\n",
       "        vertical-align: top;\n",
       "    }\n",
       "\n",
       "    .dataframe thead th {\n",
       "        text-align: right;\n",
       "    }\n",
       "</style>\n",
       "<table border=\"1\" class=\"dataframe\">\n",
       "  <thead>\n",
       "    <tr style=\"text-align: right;\">\n",
       "      <th></th>\n",
       "      <th>food</th>\n",
       "      <th>tags</th>\n",
       "      <th>Calories</th>\n",
       "      <th>pred_prob</th>\n",
       "    </tr>\n",
       "  </thead>\n",
       "  <tbody>\n",
       "    <tr>\n",
       "      <th>51333</th>\n",
       "      <td>Spaghetti With Garlic &amp;amp; Olive Oil</td>\n",
       "      <td>[european, weeknight, mins, easy, inexpensive]</td>\n",
       "      <td>614</td>\n",
       "      <td>0.999656</td>\n",
       "    </tr>\n",
       "    <tr>\n",
       "      <th>49754</th>\n",
       "      <td>Chicken and Couscous With Fennel and Orange</td>\n",
       "      <td>[chicken breast, chicken, poultry, meat, afric...</td>\n",
       "      <td>660</td>\n",
       "      <td>0.993526</td>\n",
       "    </tr>\n",
       "    <tr>\n",
       "      <th>59</th>\n",
       "      <td>Fragrant Lamb Stew with Dried Fruits</td>\n",
       "      <td>[lambsheep, fruit, meat, weeknight, oven, hours]</td>\n",
       "      <td>691</td>\n",
       "      <td>0.993491</td>\n",
       "    </tr>\n",
       "    <tr>\n",
       "      <th>3034</th>\n",
       "      <td>Perfect Smoked Pork</td>\n",
       "      <td>[pork, meat, southwestern us, very low carbs, ...</td>\n",
       "      <td>673</td>\n",
       "      <td>0.993130</td>\n",
       "    </tr>\n",
       "  </tbody>\n",
       "</table>\n",
       "</div>"
      ],
      "text/plain": [
       "                                              food                                               tags  Calories  pred_prob\n",
       "51333        Spaghetti With Garlic &amp; Olive Oil     [european, weeknight, mins, easy, inexpensive]       614   0.999656\n",
       "49754  Chicken and Couscous With Fennel and Orange  [chicken breast, chicken, poultry, meat, afric...       660   0.993526\n",
       "59            Fragrant Lamb Stew with Dried Fruits   [lambsheep, fruit, meat, weeknight, oven, hours]       691   0.993491\n",
       "3034                           Perfect Smoked Pork  [pork, meat, southwestern us, very low carbs, ...       673   0.993130"
      ]
     },
     "metadata": {},
     "output_type": "display_data"
    },
    {
     "name": "stdout",
     "output_type": "stream",
     "text": [
      "\n",
      "Final data shape used for search: (52785, 18)\n"
     ]
    }
   ],
   "source": [
    "# Contoh 3: Resep makan malam cepat, tinggi serat\n",
    "print(\"\\n--- Skenario 3: Resep Makan Malam Cepat, Tinggi Serat (Target 650 kcal) ---\")\n",
    "user_input_3 = ['weeknight', 'high fiber', 'chicken']\n",
    "user_input_3 = [x.lower() for x in user_input_3]\n",
    "target_calories_3 = 650\n",
    "result_3 = search_food_by_keywords(data, user_input_3, target_calories_3, top_n=4)\n",
    "display(result_3)\n",
    "\n",
    "print(f\"\\nFinal data shape used for search: {data.shape}\")"
   ]
  },
  {
   "cell_type": "code",
   "execution_count": null,
   "metadata": {},
   "outputs": [],
   "source": []
  }
 ],
 "metadata": {
  "kernelspec": {
   "display_name": "Python 3",
   "language": "python",
   "name": "python3"
  },
  "language_info": {
   "codemirror_mode": {
    "name": "ipython",
    "version": 3
   },
   "file_extension": ".py",
   "mimetype": "text/x-python",
   "name": "python",
   "nbconvert_exporter": "python",
   "pygments_lexer": "ipython3",
   "version": "3.10.16"
  },
  "orig_nbformat": 4
 },
 "nbformat": 4,
 "nbformat_minor": 2
}
