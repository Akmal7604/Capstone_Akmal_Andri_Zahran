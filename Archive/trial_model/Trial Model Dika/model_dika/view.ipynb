{
 "cells": [
  {
   "cell_type": "code",
   "execution_count": 1,
   "metadata": {},
   "outputs": [],
   "source": [
    "import pandas as pd"
   ]
  },
  {
   "cell_type": "code",
   "execution_count": 4,
   "metadata": {},
   "outputs": [
    {
     "name": "stdout",
     "output_type": "stream",
     "text": [
      "   RecipeId                                        Name  AuthorId  \\\n",
      "0        38           Low-Fat Berry Blue Frozen Dessert      1533   \n",
      "1        45  Buttermilk Pie With Gingersnap Crumb Crust      1580   \n",
      "2        49                    Chicken Breasts Lombardi    174711   \n",
      "3        56                              Buttermilk Pie      1581   \n",
      "4        58      Low-Fat Burgundy Beef & Vegetable Stew      1533   \n",
      "\n",
      "         AuthorName  CookTime  PrepTime  TotalTime         DatePublished  \\\n",
      "0            Dancer      1440        45       1485  1999-08-09T21:46:00Z   \n",
      "1         tristitia        50        30         80  1999-08-06T00:40:00Z   \n",
      "2  Queen Dragon Mom        30        45         75  1999-08-14T19:58:00Z   \n",
      "3          thefensk        60        20         80  1999-08-30T10:02:00Z   \n",
      "4            Dancer       134        30        164  1999-08-14T19:48:00Z   \n",
      "\n",
      "                                         Description  \\\n",
      "0  Make and share this Low-Fat Berry Blue Frozen ...   \n",
      "1  Make and share this Buttermilk Pie With Ginger...   \n",
      "2  Make and share this Chicken Breasts Lombardi r...   \n",
      "3  This recipe was originally noted by my wife on...   \n",
      "4  Make and share this Low-Fat Burgundy Beef & Ve...   \n",
      "\n",
      "                                              Images   RecipeCategory  \\\n",
      "0  https://img.sndimg.com/food/image/upload/w_555...  Frozen Desserts   \n",
      "1  https://img.sndimg.com/food/image/upload/w_555...              Pie   \n",
      "2  https://img.sndimg.com/food/image/upload/w_555...   Chicken Breast   \n",
      "3  https://img.sndimg.com/food/image/upload/w_555...              Pie   \n",
      "4  https://img.sndimg.com/food/image/upload/w_555...             Stew   \n",
      "\n",
      "                                            Keywords  \\\n",
      "0  Dessert, Low Protein, Low Cholesterol, Healthy...   \n",
      "1       Dessert, Healthy, Weeknight, Oven, < 4 Hours   \n",
      "2  Chicken, Poultry, Meat, European, Very Low Car...   \n",
      "3                     Dessert, Oven, < 4 Hours, Easy   \n",
      "4  Vegetable, Meat, Low Cholesterol, Healthy, Fre...   \n",
      "\n",
      "                         RecipeIngredientQuantities  \\\n",
      "0                                      4, 1/4, 1, 1   \n",
      "1              3/4, 1, 1, 2, 3, 1/4, 1, 1/2, 1/2, 2   \n",
      "2  2, 2, 12, 1/2, 1/3, 3/4, 1/2, 1/2, 1/2, 1/2, 1/4   \n",
      "3                      1/2, 1 1/2, 3, 3, 1, 1, 1, 1   \n",
      "4  1 1/2, 1, 1, 1/2, 1/2, 1, 1/2, 3, 5 1/2, 1, 2, 1   \n",
      "\n",
      "                               RecipeIngredientParts  AggregatedRating  \\\n",
      "0  blueberries, granulated sugar, vanilla yogurt,...               4.5   \n",
      "1  sugar, margarine, egg, flour, salt, buttermilk...               4.0   \n",
      "2  fresh mushrooms, butter, boneless skinless chi...               5.0   \n",
      "3  butter, margarine, sugar, flour, eggs, salt, v...               5.0   \n",
      "4  beef eye round, dried thyme leaves, salt, pepp...               4.5   \n",
      "\n",
      "   ReviewCount  Calories  FatContent  SaturatedFatContent  CholesterolContent  \\\n",
      "0          4.0       171           2                    1                   8   \n",
      "1          3.0       228           7                    2                  24   \n",
      "2         21.0       628          25                   13                 203   \n",
      "3        171.0       396          19                   10                 102   \n",
      "4          7.0       280           6                    2                  67   \n",
      "\n",
      "   SodiumContent  CarbohydrateContent  FiberContent  SugarContent  \\\n",
      "0             30                   37             4            30   \n",
      "1            282                   38             0            25   \n",
      "2            849                   14             1             2   \n",
      "3            270                   52             1            40   \n",
      "4            592                   22             6             9   \n",
      "\n",
      "   ProteinContent  RecipeServings  \\\n",
      "0               3             4.0   \n",
      "1               4             8.0   \n",
      "2              58             6.0   \n",
      "3               5             8.0   \n",
      "4              30             6.0   \n",
      "\n",
      "                                  RecipeInstructions  \n",
      "0  Toss 2 cups berries with sugar., Let stand for...  \n",
      "1  Preheat oven to 350°F., Make pie crust, using ...  \n",
      "2  Cook mushrooms in 2 tbsp butter in a large  sk...  \n",
      "3  Preheat oven to 400°F., Beat the butter and su...  \n",
      "4  Trim fat from beef, cut into 1-inch pieces., I...  \n"
     ]
    }
   ],
   "source": [
    "import pandas as pd\n",
    "\n",
    "df = pd.read_csv('../recipes_new.csv')\n",
    "\n",
    "# Set options to display all columns\n",
    "pd.set_option('display.max_columns', None)\n",
    "\n",
    "# Display the head of the DataFrame to see all columns and their contents\n",
    "print(df.head())\n",
    "\n",
    "# If you want to see all rows for all columns (be cautious with very large DataFrames)\n",
    "# pd.set_option('display.max_rows', None)\n",
    "# print(df)"
   ]
  },
  {
   "cell_type": "code",
   "execution_count": null,
   "metadata": {},
   "outputs": [],
   "source": []
  }
 ],
 "metadata": {
  "kernelspec": {
   "display_name": "Python 3",
   "language": "python",
   "name": "python3"
  },
  "language_info": {
   "codemirror_mode": {
    "name": "ipython",
    "version": 3
   },
   "file_extension": ".py",
   "mimetype": "text/x-python",
   "name": "python",
   "nbconvert_exporter": "python",
   "pygments_lexer": "ipython3",
   "version": "3.10.16"
  },
  "orig_nbformat": 4
 },
 "nbformat": 4,
 "nbformat_minor": 2
}
