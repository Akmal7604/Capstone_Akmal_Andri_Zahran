{
 "cells": [
  {
   "cell_type": "code",
   "execution_count": 2,
   "metadata": {},
   "outputs": [],
   "source": [
    "import numpy as np\n",
    "import pandas as pd\n",
    "from tensorflow import keras\n",
    "from sklearn.preprocessing import MinMaxScaler\n",
    "from sklearn.model_selection import train_test_split\n",
    "from IPython.display import display, HTML\n",
    "import re"
   ]
  },
  {
   "cell_type": "code",
   "execution_count": 3,
   "metadata": {},
   "outputs": [
    {
     "data": {
      "text/html": [
       "<div>\n",
       "<style scoped>\n",
       "    .dataframe tbody tr th:only-of-type {\n",
       "        vertical-align: middle;\n",
       "    }\n",
       "\n",
       "    .dataframe tbody tr th {\n",
       "        vertical-align: top;\n",
       "    }\n",
       "\n",
       "    .dataframe thead th {\n",
       "        text-align: right;\n",
       "    }\n",
       "</style>\n",
       "<table border=\"1\" class=\"dataframe\">\n",
       "  <thead>\n",
       "    <tr style=\"text-align: right;\">\n",
       "      <th></th>\n",
       "      <th>RecipeId</th>\n",
       "      <th>Name</th>\n",
       "      <th>AuthorId</th>\n",
       "      <th>AuthorName</th>\n",
       "      <th>CookTime</th>\n",
       "      <th>PrepTime</th>\n",
       "      <th>TotalTime</th>\n",
       "      <th>DatePublished</th>\n",
       "      <th>Description</th>\n",
       "      <th>Images</th>\n",
       "      <th>...</th>\n",
       "      <th>FatContent</th>\n",
       "      <th>SaturatedFatContent</th>\n",
       "      <th>CholesterolContent</th>\n",
       "      <th>SodiumContent</th>\n",
       "      <th>CarbohydrateContent</th>\n",
       "      <th>FiberContent</th>\n",
       "      <th>SugarContent</th>\n",
       "      <th>ProteinContent</th>\n",
       "      <th>RecipeServings</th>\n",
       "      <th>RecipeInstructions</th>\n",
       "    </tr>\n",
       "  </thead>\n",
       "  <tbody>\n",
       "    <tr>\n",
       "      <th>0</th>\n",
       "      <td>38</td>\n",
       "      <td>Low-Fat Berry Blue Frozen Dessert</td>\n",
       "      <td>1533</td>\n",
       "      <td>Dancer</td>\n",
       "      <td>PT24H</td>\n",
       "      <td>PT45M</td>\n",
       "      <td>PT24H45M</td>\n",
       "      <td>1999-08-09T21:46:00Z</td>\n",
       "      <td>Make and share this Low-Fat Berry Blue Frozen ...</td>\n",
       "      <td>c(\"https://img.sndimg.com/food/image/upload/w_...</td>\n",
       "      <td>...</td>\n",
       "      <td>2.5</td>\n",
       "      <td>1.3</td>\n",
       "      <td>8.0</td>\n",
       "      <td>29.8</td>\n",
       "      <td>37.1</td>\n",
       "      <td>3.6</td>\n",
       "      <td>30.2</td>\n",
       "      <td>3.2</td>\n",
       "      <td>4.0</td>\n",
       "      <td>c(\"Toss 2 cups berries with sugar.\", \"Let stan...</td>\n",
       "    </tr>\n",
       "    <tr>\n",
       "      <th>1</th>\n",
       "      <td>39</td>\n",
       "      <td>Biryani</td>\n",
       "      <td>1567</td>\n",
       "      <td>elly9812</td>\n",
       "      <td>PT25M</td>\n",
       "      <td>PT4H</td>\n",
       "      <td>PT4H25M</td>\n",
       "      <td>1999-08-29T13:12:00Z</td>\n",
       "      <td>Make and share this Biryani recipe from Food.com.</td>\n",
       "      <td>c(\"https://img.sndimg.com/food/image/upload/w_...</td>\n",
       "      <td>...</td>\n",
       "      <td>58.8</td>\n",
       "      <td>16.6</td>\n",
       "      <td>372.8</td>\n",
       "      <td>368.4</td>\n",
       "      <td>84.4</td>\n",
       "      <td>9.0</td>\n",
       "      <td>20.4</td>\n",
       "      <td>63.4</td>\n",
       "      <td>6.0</td>\n",
       "      <td>c(\"Soak saffron in warm milk for 5 minutes and...</td>\n",
       "    </tr>\n",
       "    <tr>\n",
       "      <th>2</th>\n",
       "      <td>40</td>\n",
       "      <td>Best Lemonade</td>\n",
       "      <td>1566</td>\n",
       "      <td>Stephen Little</td>\n",
       "      <td>PT5M</td>\n",
       "      <td>PT30M</td>\n",
       "      <td>PT35M</td>\n",
       "      <td>1999-09-05T19:52:00Z</td>\n",
       "      <td>This is from one of my  first Good House Keepi...</td>\n",
       "      <td>c(\"https://img.sndimg.com/food/image/upload/w_...</td>\n",
       "      <td>...</td>\n",
       "      <td>0.2</td>\n",
       "      <td>0.0</td>\n",
       "      <td>0.0</td>\n",
       "      <td>1.8</td>\n",
       "      <td>81.5</td>\n",
       "      <td>0.4</td>\n",
       "      <td>77.2</td>\n",
       "      <td>0.3</td>\n",
       "      <td>4.0</td>\n",
       "      <td>c(\"Into a 1 quart Jar with tight fitting lid, ...</td>\n",
       "    </tr>\n",
       "    <tr>\n",
       "      <th>3</th>\n",
       "      <td>41</td>\n",
       "      <td>Carina's Tofu-Vegetable Kebabs</td>\n",
       "      <td>1586</td>\n",
       "      <td>Cyclopz</td>\n",
       "      <td>PT20M</td>\n",
       "      <td>PT24H</td>\n",
       "      <td>PT24H20M</td>\n",
       "      <td>1999-09-03T14:54:00Z</td>\n",
       "      <td>This dish is best prepared a day in advance to...</td>\n",
       "      <td>c(\"https://img.sndimg.com/food/image/upload/w_...</td>\n",
       "      <td>...</td>\n",
       "      <td>24.0</td>\n",
       "      <td>3.8</td>\n",
       "      <td>0.0</td>\n",
       "      <td>1558.6</td>\n",
       "      <td>64.2</td>\n",
       "      <td>17.3</td>\n",
       "      <td>32.1</td>\n",
       "      <td>29.3</td>\n",
       "      <td>2.0</td>\n",
       "      <td>c(\"Drain the tofu, carefully squeezing out exc...</td>\n",
       "    </tr>\n",
       "    <tr>\n",
       "      <th>4</th>\n",
       "      <td>42</td>\n",
       "      <td>Cabbage Soup</td>\n",
       "      <td>1538</td>\n",
       "      <td>Duckie067</td>\n",
       "      <td>PT30M</td>\n",
       "      <td>PT20M</td>\n",
       "      <td>PT50M</td>\n",
       "      <td>1999-09-19T06:19:00Z</td>\n",
       "      <td>Make and share this Cabbage Soup recipe from F...</td>\n",
       "      <td>\"https://img.sndimg.com/food/image/upload/w_55...</td>\n",
       "      <td>...</td>\n",
       "      <td>0.4</td>\n",
       "      <td>0.1</td>\n",
       "      <td>0.0</td>\n",
       "      <td>959.3</td>\n",
       "      <td>25.1</td>\n",
       "      <td>4.8</td>\n",
       "      <td>17.7</td>\n",
       "      <td>4.3</td>\n",
       "      <td>4.0</td>\n",
       "      <td>c(\"Mix everything together and bring to a boil...</td>\n",
       "    </tr>\n",
       "  </tbody>\n",
       "</table>\n",
       "<p>5 rows × 27 columns</p>\n",
       "</div>"
      ],
      "text/plain": [
       "   RecipeId                               Name  AuthorId      AuthorName  \\\n",
       "0        38  Low-Fat Berry Blue Frozen Dessert      1533          Dancer   \n",
       "1        39                            Biryani      1567        elly9812   \n",
       "2        40                      Best Lemonade      1566  Stephen Little   \n",
       "3        41     Carina's Tofu-Vegetable Kebabs      1586         Cyclopz   \n",
       "4        42                       Cabbage Soup      1538       Duckie067   \n",
       "\n",
       "  CookTime PrepTime TotalTime         DatePublished  \\\n",
       "0    PT24H    PT45M  PT24H45M  1999-08-09T21:46:00Z   \n",
       "1    PT25M     PT4H   PT4H25M  1999-08-29T13:12:00Z   \n",
       "2     PT5M    PT30M     PT35M  1999-09-05T19:52:00Z   \n",
       "3    PT20M    PT24H  PT24H20M  1999-09-03T14:54:00Z   \n",
       "4    PT30M    PT20M     PT50M  1999-09-19T06:19:00Z   \n",
       "\n",
       "                                         Description  \\\n",
       "0  Make and share this Low-Fat Berry Blue Frozen ...   \n",
       "1  Make and share this Biryani recipe from Food.com.   \n",
       "2  This is from one of my  first Good House Keepi...   \n",
       "3  This dish is best prepared a day in advance to...   \n",
       "4  Make and share this Cabbage Soup recipe from F...   \n",
       "\n",
       "                                              Images  ... FatContent  \\\n",
       "0  c(\"https://img.sndimg.com/food/image/upload/w_...  ...        2.5   \n",
       "1  c(\"https://img.sndimg.com/food/image/upload/w_...  ...       58.8   \n",
       "2  c(\"https://img.sndimg.com/food/image/upload/w_...  ...        0.2   \n",
       "3  c(\"https://img.sndimg.com/food/image/upload/w_...  ...       24.0   \n",
       "4  \"https://img.sndimg.com/food/image/upload/w_55...  ...        0.4   \n",
       "\n",
       "  SaturatedFatContent CholesterolContent SodiumContent  CarbohydrateContent  \\\n",
       "0                 1.3                8.0          29.8                 37.1   \n",
       "1                16.6              372.8         368.4                 84.4   \n",
       "2                 0.0                0.0           1.8                 81.5   \n",
       "3                 3.8                0.0        1558.6                 64.2   \n",
       "4                 0.1                0.0         959.3                 25.1   \n",
       "\n",
       "   FiberContent  SugarContent  ProteinContent  RecipeServings  \\\n",
       "0           3.6          30.2             3.2             4.0   \n",
       "1           9.0          20.4            63.4             6.0   \n",
       "2           0.4          77.2             0.3             4.0   \n",
       "3          17.3          32.1            29.3             2.0   \n",
       "4           4.8          17.7             4.3             4.0   \n",
       "\n",
       "                                  RecipeInstructions  \n",
       "0  c(\"Toss 2 cups berries with sugar.\", \"Let stan...  \n",
       "1  c(\"Soak saffron in warm milk for 5 minutes and...  \n",
       "2  c(\"Into a 1 quart Jar with tight fitting lid, ...  \n",
       "3  c(\"Drain the tofu, carefully squeezing out exc...  \n",
       "4  c(\"Mix everything together and bring to a boil...  \n",
       "\n",
       "[5 rows x 27 columns]"
      ]
     },
     "execution_count": 3,
     "metadata": {},
     "output_type": "execute_result"
    }
   ],
   "source": [
    "data = pd.read_csv(\"recipes_crop.csv\")\n",
    "\n",
    "data.head()"
   ]
  },
  {
   "cell_type": "code",
   "execution_count": 4,
   "metadata": {},
   "outputs": [],
   "source": [
    "columns = [\n",
    "    'RecipeId', 'Name', 'CookTime', 'PrepTime', 'TotalTime',\n",
    "    'RecipeIngredientParts', 'Calories', 'FatContent', 'SaturatedFatContent',\n",
    "    'CholesterolContent', 'SodiumContent', 'CarbohydrateContent',\n",
    "    'FiberContent', 'SugarContent', 'ProteinContent', 'RecipeServings', 'Keywords', \n",
    "    'Images'\n",
    "]\n",
    "data = data[columns]"
   ]
  },
  {
   "cell_type": "code",
   "execution_count": 5,
   "metadata": {},
   "outputs": [],
   "source": [
    "def extract_quoted_strings(s):\n",
    "    return re.findall(r'\"([^\"]*)\"', s)\n",
    "\n",
    "def clean_image_url(url_string):\n",
    "    if isinstance(url_string, str):\n",
    "        urls = extract_quoted_strings(url_string)\n",
    "        if urls:\n",
    "            return urls[0] \n",
    "    return None\n",
    "\n",
    "data['Images'] = data['Images'].apply(clean_image_url)"
   ]
  },
  {
   "cell_type": "code",
   "execution_count": 6,
   "metadata": {},
   "outputs": [],
   "source": [
    "def preprocess_data(df):\n",
    "    df = df.drop_duplicates(subset=['RecipeId'])\n",
    "    \n",
    "    # Improved time conversion function\n",
    "    def convert_time(time_str):\n",
    "        if pd.isna(time_str) or time_str == '': \n",
    "            return 0\n",
    "            \n",
    "        try:            \n",
    "            time_str = str(time_str).replace('PT', '')\n",
    "            \n",
    "            hours = 0\n",
    "            minutes = 0\n",
    "            \n",
    "            if 'H' in time_str:\n",
    "                hours_part = time_str.split('H')[0]\n",
    "                hours = int(hours_part) if hours_part else 0\n",
    "                time_str = time_str.split('H')[1] if 'H' in time_str else time_str\n",
    "                \n",
    "            if 'M' in time_str:\n",
    "                minutes_part = time_str.split('M')[0]\n",
    "                minutes = int(minutes_part) if minutes_part else 0\n",
    "                \n",
    "            return hours * 60 + minutes\n",
    "        except:\n",
    "            return 0  \n",
    "    \n",
    "    for col in ['CookTime', 'PrepTime', 'TotalTime']:\n",
    "        df[col] = df[col].apply(convert_time)\n",
    "    \n",
    "    # Normalize nutritional values per serving\n",
    "    nut_cols = ['Calories', 'FatContent', 'SaturatedFatContent', 'CholesterolContent',\n",
    "               'SodiumContent', 'CarbohydrateContent', 'FiberContent', 'SugarContent', 'ProteinContent']\n",
    "    \n",
    "    for col in nut_cols:\n",
    "        df[col] = df[col] / df['RecipeServings'].replace(0, 1)  \n",
    "    \n",
    "    return df\n",
    "\n",
    "processed_data = preprocess_data(data)"
   ]
  },
  {
   "cell_type": "code",
   "execution_count": 7,
   "metadata": {},
   "outputs": [],
   "source": [
    "feature_cols = ['Calories', 'ProteinContent', 'CarbohydrateContent', 'CookTime']\n",
    "features = processed_data[feature_cols].values\n",
    "scaler = MinMaxScaler()\n",
    "normalized_features = scaler.fit_transform(features)"
   ]
  },
  {
   "cell_type": "code",
   "execution_count": 8,
   "metadata": {},
   "outputs": [],
   "source": [
    "def prepare_training_data(features, data):\n",
    "    protein_high = data['ProteinContent'] > data['ProteinContent'].median()\n",
    "    carb_low = data['CarbohydrateContent'] < data['CarbohydrateContent'].median()\n",
    "    y = (protein_high & carb_low).astype(int)\n",
    "    return train_test_split(features, y, test_size=0.2, random_state=42)\n",
    "\n",
    "X_train, X_val, y_train, y_val = prepare_training_data(normalized_features, processed_data)"
   ]
  },
  {
   "cell_type": "code",
   "execution_count": 9,
   "metadata": {},
   "outputs": [],
   "source": [
    "def build_model():\n",
    "    model = keras.Sequential([\n",
    "        keras.layers.Dense(64, activation='relu', input_shape=(X_train.shape[1],)),\n",
    "        keras.layers.Dropout(0.3),\n",
    "        keras.layers.Dense(32, activation='relu'),\n",
    "        keras.layers.Dense(1, activation='sigmoid')\n",
    "    ])\n",
    "    model.compile(optimizer='adam', loss='binary_crossentropy', metrics=['accuracy'])\n",
    "    return model"
   ]
  },
  {
   "cell_type": "code",
   "execution_count": 10,
   "metadata": {},
   "outputs": [
    {
     "name": "stderr",
     "output_type": "stream",
     "text": [
      "/Users/adikazahran/anaconda3/envs/ganenv/lib/python3.10/site-packages/keras/src/layers/core/dense.py:87: UserWarning: Do not pass an `input_shape`/`input_dim` argument to a layer. When using Sequential models, prefer using an `Input(shape)` object as the first layer in the model instead.\n",
      "  super().__init__(activity_regularizer=activity_regularizer, **kwargs)\n"
     ]
    },
    {
     "name": "stdout",
     "output_type": "stream",
     "text": [
      "Epoch 1/20\n",
      "\u001b[1m3545/3545\u001b[0m \u001b[32m━━━━━━━━━━━━━━━━━━━━\u001b[0m\u001b[37m\u001b[0m \u001b[1m4s\u001b[0m 886us/step - accuracy: 0.8181 - loss: 0.4701 - val_accuracy: 0.8764 - val_loss: 0.2738\n",
      "Epoch 2/20\n",
      "\u001b[1m3545/3545\u001b[0m \u001b[32m━━━━━━━━━━━━━━━━━━━━\u001b[0m\u001b[37m\u001b[0m \u001b[1m2s\u001b[0m 662us/step - accuracy: 0.9078 - loss: 0.2292 - val_accuracy: 0.9581 - val_loss: 0.1161\n",
      "Epoch 3/20\n",
      "\u001b[1m3545/3545\u001b[0m \u001b[32m━━━━━━━━━━━━━━━━━━━━\u001b[0m\u001b[37m\u001b[0m \u001b[1m3s\u001b[0m 754us/step - accuracy: 0.9543 - loss: 0.1213 - val_accuracy: 0.9708 - val_loss: 0.0775\n",
      "Epoch 4/20\n",
      "\u001b[1m3545/3545\u001b[0m \u001b[32m━━━━━━━━━━━━━━━━━━━━\u001b[0m\u001b[37m\u001b[0m \u001b[1m3s\u001b[0m 711us/step - accuracy: 0.9679 - loss: 0.0839 - val_accuracy: 0.9837 - val_loss: 0.0555\n",
      "Epoch 5/20\n",
      "\u001b[1m3545/3545\u001b[0m \u001b[32m━━━━━━━━━━━━━━━━━━━━\u001b[0m\u001b[37m\u001b[0m \u001b[1m3s\u001b[0m 859us/step - accuracy: 0.9710 - loss: 0.0729 - val_accuracy: 0.9804 - val_loss: 0.0542\n",
      "Epoch 6/20\n",
      "\u001b[1m3545/3545\u001b[0m \u001b[32m━━━━━━━━━━━━━━━━━━━━\u001b[0m\u001b[37m\u001b[0m \u001b[1m3s\u001b[0m 733us/step - accuracy: 0.9768 - loss: 0.0597 - val_accuracy: 0.9834 - val_loss: 0.0522\n",
      "Epoch 7/20\n",
      "\u001b[1m3545/3545\u001b[0m \u001b[32m━━━━━━━━━━━━━━━━━━━━\u001b[0m\u001b[37m\u001b[0m \u001b[1m3s\u001b[0m 772us/step - accuracy: 0.9791 - loss: 0.0535 - val_accuracy: 0.9820 - val_loss: 0.0452\n",
      "Epoch 8/20\n",
      "\u001b[1m3545/3545\u001b[0m \u001b[32m━━━━━━━━━━━━━━━━━━━━\u001b[0m\u001b[37m\u001b[0m \u001b[1m4s\u001b[0m 1ms/step - accuracy: 0.9788 - loss: 0.0522 - val_accuracy: 0.9878 - val_loss: 0.0387\n",
      "Epoch 9/20\n",
      "\u001b[1m3545/3545\u001b[0m \u001b[32m━━━━━━━━━━━━━━━━━━━━\u001b[0m\u001b[37m\u001b[0m \u001b[1m3s\u001b[0m 745us/step - accuracy: 0.9807 - loss: 0.0490 - val_accuracy: 0.9857 - val_loss: 0.0356\n",
      "Epoch 10/20\n",
      "\u001b[1m3545/3545\u001b[0m \u001b[32m━━━━━━━━━━━━━━━━━━━━\u001b[0m\u001b[37m\u001b[0m \u001b[1m3s\u001b[0m 718us/step - accuracy: 0.9796 - loss: 0.0503 - val_accuracy: 0.9918 - val_loss: 0.0325\n",
      "Epoch 11/20\n",
      "\u001b[1m3545/3545\u001b[0m \u001b[32m━━━━━━━━━━━━━━━━━━━━\u001b[0m\u001b[37m\u001b[0m \u001b[1m2s\u001b[0m 688us/step - accuracy: 0.9804 - loss: 0.0489 - val_accuracy: 0.9852 - val_loss: 0.0343\n",
      "Epoch 12/20\n",
      "\u001b[1m3545/3545\u001b[0m \u001b[32m━━━━━━━━━━━━━━━━━━━━\u001b[0m\u001b[37m\u001b[0m \u001b[1m3s\u001b[0m 737us/step - accuracy: 0.9810 - loss: 0.0474 - val_accuracy: 0.9910 - val_loss: 0.0337\n",
      "Epoch 13/20\n",
      "\u001b[1m3545/3545\u001b[0m \u001b[32m━━━━━━━━━━━━━━━━━━━━\u001b[0m\u001b[37m\u001b[0m \u001b[1m2s\u001b[0m 674us/step - accuracy: 0.9789 - loss: 0.0519 - val_accuracy: 0.9844 - val_loss: 0.0347\n",
      "Epoch 14/20\n",
      "\u001b[1m3545/3545\u001b[0m \u001b[32m━━━━━━━━━━━━━━━━━━━━\u001b[0m\u001b[37m\u001b[0m \u001b[1m2s\u001b[0m 660us/step - accuracy: 0.9815 - loss: 0.0466 - val_accuracy: 0.9809 - val_loss: 0.0415\n",
      "Epoch 15/20\n",
      "\u001b[1m3545/3545\u001b[0m \u001b[32m━━━━━━━━━━━━━━━━━━━━\u001b[0m\u001b[37m\u001b[0m \u001b[1m3s\u001b[0m 738us/step - accuracy: 0.9792 - loss: 0.0498 - val_accuracy: 0.9838 - val_loss: 0.0342\n",
      "Epoch 16/20\n",
      "\u001b[1m3545/3545\u001b[0m \u001b[32m━━━━━━━━━━━━━━━━━━━━\u001b[0m\u001b[37m\u001b[0m \u001b[1m3s\u001b[0m 809us/step - accuracy: 0.9817 - loss: 0.0460 - val_accuracy: 0.9842 - val_loss: 0.0348\n",
      "Epoch 17/20\n",
      "\u001b[1m3545/3545\u001b[0m \u001b[32m━━━━━━━━━━━━━━━━━━━━\u001b[0m\u001b[37m\u001b[0m \u001b[1m3s\u001b[0m 870us/step - accuracy: 0.9812 - loss: 0.0463 - val_accuracy: 0.9826 - val_loss: 0.0606\n",
      "Epoch 18/20\n",
      "\u001b[1m3545/3545\u001b[0m \u001b[32m━━━━━━━━━━━━━━━━━━━━\u001b[0m\u001b[37m\u001b[0m \u001b[1m3s\u001b[0m 877us/step - accuracy: 0.9804 - loss: 0.0492 - val_accuracy: 0.9843 - val_loss: 0.0424\n",
      "Epoch 19/20\n",
      "\u001b[1m3545/3545\u001b[0m \u001b[32m━━━━━━━━━━━━━━━━━━━━\u001b[0m\u001b[37m\u001b[0m \u001b[1m3s\u001b[0m 784us/step - accuracy: 0.9815 - loss: 0.0461 - val_accuracy: 0.9883 - val_loss: 0.0287\n",
      "Epoch 20/20\n",
      "\u001b[1m3545/3545\u001b[0m \u001b[32m━━━━━━━━━━━━━━━━━━━━\u001b[0m\u001b[37m\u001b[0m \u001b[1m3s\u001b[0m 846us/step - accuracy: 0.9819 - loss: 0.0451 - val_accuracy: 0.9855 - val_loss: 0.0367\n"
     ]
    },
    {
     "data": {
      "text/plain": [
       "<keras.src.callbacks.history.History at 0x2d84437c0>"
      ]
     },
     "execution_count": 10,
     "metadata": {},
     "output_type": "execute_result"
    }
   ],
   "source": [
    "model = build_model()\n",
    "model.fit(X_train, y_train, epochs=20, batch_size=32, validation_data=(X_val, y_val))"
   ]
  },
  {
   "cell_type": "code",
   "execution_count": 11,
   "metadata": {},
   "outputs": [],
   "source": [
    "def recommend_recipes(model, features, data, calorie_target, n=3):\n",
    "    scores = model.predict(features)\n",
    "    data['Score'] = scores\n",
    "    \n",
    "    # Get top matches within 20% of calorie target\n",
    "    mask = (data['Calories'] >= calorie_target*0.8) & (data['Calories'] <= calorie_target*1.2)\n",
    "    return data[mask].nlargest(n, 'Score')\n",
    "\n",
    "def get_user_input():\n",
    "    user_data = {\n",
    "        'gender': input(\"Jenis kelamin (Male/Female): \"),\n",
    "        'age': int(input(\"Umur (tahun): \")),\n",
    "        'height': float(input(\"Tinggi badan (cm): \")),\n",
    "        'weight': float(input(\"Berat badan (kg): \")),\n",
    "        'activity': int(input(\"Tingkat aktivitas fisik (1-5): \")),\n",
    "        'goal': int(input(\"Tujuan (1: Maintain, 2: Mild Loss, 3: Weight Loss, 4: Extreme Loss, 5: Weight Gain): \"))\n",
    "    }\n",
    "    meals_per_day = int(input(\"Jumlah waktu makan per hari (3-5): \"))\n",
    "    return {**user_data, 'meals_per_day': meals_per_day}"
   ]
  },
  {
   "cell_type": "code",
   "execution_count": 17,
   "metadata": {},
   "outputs": [
    {
     "name": "stdout",
     "output_type": "stream",
     "text": [
      "=== Food Recommendation ===\n",
      "\u001b[1m4431/4431\u001b[0m \u001b[32m━━━━━━━━━━━━━━━━━━━━\u001b[0m\u001b[37m\u001b[0m \u001b[1m2s\u001b[0m 433us/step\n",
      "\u001b[1m4431/4431\u001b[0m \u001b[32m━━━━━━━━━━━━━━━━━━━━\u001b[0m\u001b[37m\u001b[0m \u001b[1m2s\u001b[0m 395us/step\n",
      "\u001b[1m4431/4431\u001b[0m \u001b[32m━━━━━━━━━━━━━━━━━━━━\u001b[0m\u001b[37m\u001b[0m \u001b[1m1s\u001b[0m 290us/step\n",
      "\u001b[1m4431/4431\u001b[0m \u001b[32m━━━━━━━━━━━━━━━━━━━━\u001b[0m\u001b[37m\u001b[0m \u001b[1m1s\u001b[0m 257us/step\n",
      "\n",
      "==================================================\n",
      "BMI:\n",
      "Nilai BMI: 35.29\n",
      "Kategori BMI: Obese\n",
      "\n",
      "Kebutuhan Kalori Harian:\n",
      "Total Kalori: 2756 kkal\n",
      "Pembagian Kalori:\n",
      "Breakfast: 689 kkal\n",
      "Lunch: 965 kkal\n",
      "Dinner: 827 kkal\n",
      "Snack: 276 kkal\n",
      "\n",
      "## 1. Breakfast Menu:\n",
      "- Pork Sirloin Roast With Thai Peanut Sauce (Slow Cooker) (Cuisine: Meat, Peanut Butter, Thai, Asian, Lactose Free, Free Of..., Weeknight, Small Appliance, Easy, From Scratch)\n",
      "  Kalori: 688.6 kkal\n",
      "  Protein: 77.2 g\n"
     ]
    },
    {
     "data": {
      "text/html": [
       "<img src=\"https://img.sndimg.com/food/image/upload/w_555,h_416,c_fit,fl_progressive,q_95/v1/img/recipes/48/85/73/picUtXENl.jpg\" alt=\"Recipe Image\" style=\"max-width: 300px; height: auto;\"/><br>"
      ],
      "text/plain": [
       "<IPython.core.display.HTML object>"
      ]
     },
     "metadata": {},
     "output_type": "display_data"
    },
    {
     "name": "stdout",
     "output_type": "stream",
     "text": [
      "- A@@ Kicking Porterhouse Steak (Cuisine: Meat, Very Low Carbs, High Protein, High In..., < 15 Mins, Easy)\n",
      "  Kalori: 809.6 kkal\n",
      "  Protein: 65.3 g\n"
     ]
    },
    {
     "data": {
      "text/html": [
       "<img src=\"https://img.sndimg.com/food/image/upload/w_555,h_416,c_fit,fl_progressive,q_95/v1/img/recipes/41/57/19/picE1dUIH.jpg\" alt=\"Recipe Image\" style=\"max-width: 300px; height: auto;\"/><br>"
      ],
      "text/plain": [
       "<IPython.core.display.HTML object>"
      ]
     },
     "metadata": {},
     "output_type": "display_data"
    },
    {
     "name": "stdout",
     "output_type": "stream",
     "text": [
      "- Roast Chicken Breast (Bone In, Skin On) (Cuisine: Chicken, Poultry, Meat, Very Low Carbs, High Protein, High In..., Weeknight, < 30 Mins, Inexpensive)\n",
      "  Kalori: 600.3 kkal\n",
      "  Protein: 60.9 g\n"
     ]
    },
    {
     "data": {
      "text/html": [
       "<img src=\"https://img.sndimg.com/food/image/upload/w_555,h_416,c_fit,fl_progressive,q_95/v1/img/recipes/42/91/28/tZ6cQVRVQw2LE1lxc3RL_IMG_0045.JPG\" alt=\"Recipe Image\" style=\"max-width: 300px; height: auto;\"/><br>"
      ],
      "text/plain": [
       "<IPython.core.display.HTML object>"
      ]
     },
     "metadata": {},
     "output_type": "display_data"
    },
    {
     "name": "stdout",
     "output_type": "stream",
     "text": [
      "\n",
      "## 2. Lunch Menu:\n",
      "- Chicken Breast Filled With Bacon &amp; Cheese (Cuisine: Chicken, Poultry, Meat, Australian, Very Low Carbs, High Protein, High In..., Savory, < 15 Mins, Beginner Cook, Stove Top, Easy, Inexpensive)\n",
      "  Kalori: 1005.1 kkal\n",
      "  Protein: 80.0 g\n"
     ]
    },
    {
     "data": {
      "text/html": [
       "<img src=\"https://img.sndimg.com/food/image/upload/w_555,h_416,c_fit,fl_progressive,q_95/v1/img/recipes/14/17/35/pict1Gqpx.jpg\" alt=\"Recipe Image\" style=\"max-width: 300px; height: auto;\"/><br>"
      ],
      "text/plain": [
       "<IPython.core.display.HTML object>"
      ]
     },
     "metadata": {},
     "output_type": "display_data"
    },
    {
     "name": "stdout",
     "output_type": "stream",
     "text": [
      "- Hackney's Inside-Out Burger (Cuisine: Lunch/Snacks, Cheese, Meat, Very Low Carbs, High Protein, Kid Friendly, High In..., < 15 Mins, Beginner Cook, Easy)\n",
      "  Kalori: 1003.0 kkal\n",
      "  Protein: 59.7 g\n"
     ]
    },
    {
     "data": {
      "text/html": [
       "<img src=\"https://img.sndimg.com/food/image/upload/w_555,h_416,c_fit,fl_progressive,q_95/v1/img/recipes/24/61/91/picUJMb4e.jpg\" alt=\"Recipe Image\" style=\"max-width: 300px; height: auto;\"/><br>"
      ],
      "text/plain": [
       "<IPython.core.display.HTML object>"
      ]
     },
     "metadata": {},
     "output_type": "display_data"
    },
    {
     "name": "stdout",
     "output_type": "stream",
     "text": [
      "- A@@ Kicking Porterhouse Steak (Cuisine: Meat, Very Low Carbs, High Protein, High In..., < 15 Mins, Easy)\n",
      "  Kalori: 809.6 kkal\n",
      "  Protein: 65.3 g\n"
     ]
    },
    {
     "data": {
      "text/html": [
       "<img src=\"https://img.sndimg.com/food/image/upload/w_555,h_416,c_fit,fl_progressive,q_95/v1/img/recipes/41/57/19/picE1dUIH.jpg\" alt=\"Recipe Image\" style=\"max-width: 300px; height: auto;\"/><br>"
      ],
      "text/plain": [
       "<IPython.core.display.HTML object>"
      ]
     },
     "metadata": {},
     "output_type": "display_data"
    },
    {
     "name": "stdout",
     "output_type": "stream",
     "text": [
      "\n",
      "## 3. Dinner Menu:\n",
      "- Pork Sirloin Roast With Thai Peanut Sauce (Slow Cooker) (Cuisine: Meat, Peanut Butter, Thai, Asian, Lactose Free, Free Of..., Weeknight, Small Appliance, Easy, From Scratch)\n",
      "  Kalori: 688.6 kkal\n",
      "  Protein: 77.2 g\n"
     ]
    },
    {
     "data": {
      "text/html": [
       "<img src=\"https://img.sndimg.com/food/image/upload/w_555,h_416,c_fit,fl_progressive,q_95/v1/img/recipes/48/85/73/picUtXENl.jpg\" alt=\"Recipe Image\" style=\"max-width: 300px; height: auto;\"/><br>"
      ],
      "text/plain": [
       "<IPython.core.display.HTML object>"
      ]
     },
     "metadata": {},
     "output_type": "display_data"
    },
    {
     "name": "stdout",
     "output_type": "stream",
     "text": [
      "- A@@ Kicking Porterhouse Steak (Cuisine: Meat, Very Low Carbs, High Protein, High In..., < 15 Mins, Easy)\n",
      "  Kalori: 809.6 kkal\n",
      "  Protein: 65.3 g\n"
     ]
    },
    {
     "data": {
      "text/html": [
       "<img src=\"https://img.sndimg.com/food/image/upload/w_555,h_416,c_fit,fl_progressive,q_95/v1/img/recipes/41/57/19/picE1dUIH.jpg\" alt=\"Recipe Image\" style=\"max-width: 300px; height: auto;\"/><br>"
      ],
      "text/plain": [
       "<IPython.core.display.HTML object>"
      ]
     },
     "metadata": {},
     "output_type": "display_data"
    },
    {
     "name": "stdout",
     "output_type": "stream",
     "text": [
      "- Super-Easy No-Boil Oven Ribs (Cuisine: Meat, Very Low Carbs, High Protein, High In..., Roast, Broil/Grill, Oven, Beginner Cook, < 4 Hours, Easy)\n",
      "  Kalori: 759.4 kkal\n",
      "  Protein: 54.6 g\n"
     ]
    },
    {
     "data": {
      "text/html": [
       "<p><b>Gambar tidak ditemukan</b></p>"
      ],
      "text/plain": [
       "<IPython.core.display.HTML object>"
      ]
     },
     "metadata": {},
     "output_type": "display_data"
    },
    {
     "name": "stdout",
     "output_type": "stream",
     "text": [
      "\n",
      "## 4. Snack Menu:\n",
      "- Smelly Tuna (Cuisine: Tuna, Very Low Carbs, High Protein, High In..., Microwave, < 15 Mins, Easy, Inexpensive)\n",
      "  Kalori: 316.8 kkal\n",
      "  Protein: 46.5 g\n"
     ]
    },
    {
     "data": {
      "text/html": [
       "<p><b>Gambar tidak ditemukan</b></p>"
      ],
      "text/plain": [
       "<IPython.core.display.HTML object>"
      ]
     },
     "metadata": {},
     "output_type": "display_data"
    },
    {
     "name": "stdout",
     "output_type": "stream",
     "text": [
      "- Grilled Rosemary Pork Chops (Cuisine: Meat, Very Low Carbs, Lactose Free, High Protein, Egg Free, Healthy, Free Of..., High In..., Savory, < 15 Mins, Easy)\n",
      "  Kalori: 307.1 kkal\n",
      "  Protein: 50.0 g\n"
     ]
    },
    {
     "data": {
      "text/html": [
       "<img src=\"https://img.sndimg.com/food/image/upload/w_555,h_416,c_fit,fl_progressive,q_95/v1/img/recipes/22/06/33/pic08kv53.jpg\" alt=\"Recipe Image\" style=\"max-width: 300px; height: auto;\"/><br>"
      ],
      "text/plain": [
       "<IPython.core.display.HTML object>"
      ]
     },
     "metadata": {},
     "output_type": "display_data"
    },
    {
     "name": "stdout",
     "output_type": "stream",
     "text": [
      "- Reheating Cooked Shellfish (Cuisine: High Protein, Healthy, High In..., < 30 Mins, Steam, Stove Top, Easy)\n",
      "  Kalori: 330.3 kkal\n",
      "  Protein: 65.9 g\n"
     ]
    },
    {
     "data": {
      "text/html": [
       "<p><b>Gambar tidak ditemukan</b></p>"
      ],
      "text/plain": [
       "<IPython.core.display.HTML object>"
      ]
     },
     "metadata": {},
     "output_type": "display_data"
    }
   ],
   "source": [
    "if __name__ == \"__main__\":\n",
    "    try:\n",
    "        print(\"=== Food Recommendation ===\")\n",
    "        user = get_user_input()\n",
    "        \n",
    "        # Calculate metrics\n",
    "        height_m = user['height']/100\n",
    "        bmi = user['weight'] / (height_m ** 2)\n",
    "        bmi_category = (\"Underweight\" if bmi < 18.5 else\n",
    "                       \"Normal\" if bmi < 25 else\n",
    "                       \"Overweight\" if bmi < 30 else\n",
    "                       \"Obese\") \n",
    "        \n",
    "        # Calculate calorie needs\n",
    "        bmr = (10*user['weight'] + 6.25*user['height'] - 5*user['age'] + \n",
    "              (5 if user['gender'].lower()=='male' else -161))\n",
    "        activity_multiplier = [1.2, 1.375, 1.55, 1.725, 1.9][user['activity']-1]\n",
    "        maintenance = bmr * activity_multiplier\n",
    "        \n",
    "        goal_adjustment = {1:0, 2:-250, 3:-500, 4:-750, 5:300}\n",
    "        target_calories = maintenance + goal_adjustment[user['goal']]\n",
    "        \n",
    "        # Generate recommendations\n",
    "        def get_recommendations(calorie_target):\n",
    "            scores = model.predict(normalized_features)\n",
    "            processed_data['Score'] = scores\n",
    "            mask = (processed_data['Calories'] >= calorie_target*0.8) & \\\n",
    "                   (processed_data['Calories'] <= calorie_target*1.2)\n",
    "            return processed_data[mask].nlargest(3, 'Score')\n",
    "        \n",
    "        breakfast = get_recommendations(target_calories*0.25)\n",
    "        lunch = get_recommendations(target_calories*0.35)\n",
    "        dinner = get_recommendations(target_calories*0.3)\n",
    "        snack = get_recommendations(target_calories*0.1) if user['meals_per_day'] > 3 else None\n",
    "        \n",
    "        # Display results\n",
    "        print(\"\\n\" + \"=\"*50)\n",
    "        print(f\"BMI:\\nNilai BMI: {bmi:.2f}\\nKategori BMI: {bmi_category}\")\n",
    "        print(f\"\\nKebutuhan Kalori Harian:\\nTotal Kalori: {target_calories:.0f} kkal\")\n",
    "        print(\"Pembagian Kalori:\")\n",
    "        print(f\"Breakfast: {target_calories*0.25:.0f} kkal\")\n",
    "        print(f\"Lunch: {target_calories*0.35:.0f} kkal\")\n",
    "        print(f\"Dinner: {target_calories*0.3:.0f} kkal\")\n",
    "        if snack is not None:\n",
    "            print(f\"Snack: {target_calories*0.1:.0f} kkal\")\n",
    "        \n",
    "        def print_meal(meal_name, meal_data):\n",
    "            print(f\"\\n{meal_name} Menu:\")\n",
    "            for _, row in meal_data.iterrows():\n",
    "                cuisine = re.findall(r'\"([^\"]*)\"', str(row['Keywords']))\n",
    "                cuisine = ', '.join(cuisine) if cuisine else \"Unknown\"\n",
    "                print(f\"- {row['Name']} (Cuisine: {cuisine})\")\n",
    "                print(f\"  Kalori: {row['Calories']:.1f} kkal\")\n",
    "                print(f\"  Protein: {row['ProteinContent']:.1f} g\")\n",
    "                if row['Images']:\n",
    "                    display(HTML(f'<img src=\"{row[\"Images\"]}\" alt=\"Recipe Image\" style=\"max-width: 300px; height: auto;\"/><br>'))\n",
    "                else:\n",
    "                    display(HTML('<p><b>Gambar tidak ditemukan</b></p>'))\n",
    "\n",
    "        print_meal(\"## 1. Breakfast\", breakfast)\n",
    "        print_meal(\"## 2. Lunch\", lunch)\n",
    "        print_meal(\"## 3. Dinner\", dinner)\n",
    "        if snack is not None:\n",
    "            print_meal(\"## 4. Snack\", snack)\n",
    "            \n",
    "    except Exception as e:\n",
    "        print(f\"\\nError: {str(e)}\")\n",
    "        print(\"Pastikan semua input sudah benar dan coba lagi.\")"
   ]
  },
  {
   "cell_type": "code",
   "execution_count": null,
   "metadata": {},
   "outputs": [],
   "source": []
  },
  {
   "cell_type": "code",
   "execution_count": null,
   "metadata": {},
   "outputs": [],
   "source": []
  }
 ],
 "metadata": {
  "kernelspec": {
   "display_name": "Python 3",
   "language": "python",
   "name": "python3"
  },
  "language_info": {
   "codemirror_mode": {
    "name": "ipython",
    "version": 3
   },
   "file_extension": ".py",
   "mimetype": "text/x-python",
   "name": "python",
   "nbconvert_exporter": "python",
   "pygments_lexer": "ipython3",
   "version": "3.10.16"
  },
  "orig_nbformat": 4
 },
 "nbformat": 4,
 "nbformat_minor": 2
}
